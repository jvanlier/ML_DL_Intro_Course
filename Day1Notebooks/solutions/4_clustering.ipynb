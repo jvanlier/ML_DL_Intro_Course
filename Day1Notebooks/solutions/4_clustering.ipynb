{
  "nbformat": 4,
  "nbformat_minor": 0,
  "metadata": {
    "colab": {
      "name": "Copy of 4_clustering.ipynb",
      "version": "0.3.2",
      "provenance": [],
      "collapsed_sections": []
    },
    "kernelspec": {
      "display_name": "Python 3",
      "language": "python",
      "name": "python3"
    }
  },
  "cells": [
    {
      "metadata": {
        "id": "fnqiqYfj0Gco",
        "colab_type": "code",
        "colab": {}
      },
      "cell_type": "code",
      "source": [
        "import numpy as np\n",
        "import pandas as pd\n",
        "import seaborn as sns\n",
        "import matplotlib.pyplot as plt\n",
        "%matplotlib inline"
      ],
      "execution_count": 0,
      "outputs": []
    },
    {
      "metadata": {
        "id": "7FCTwz0m0Gcs",
        "colab_type": "code",
        "outputId": "723604ed-7cdc-483c-a4be-c6732b05daf9",
        "colab": {
          "base_uri": "https://localhost:8080/",
          "height": 195
        }
      },
      "cell_type": "code",
      "source": [
        "df = pd.read_csv(\"https://raw.githubusercontent.com/jvanlier/TIAS_ML_DL/master/Day1Notebooks/data/Mall_Customers.csv\")\n",
        "df.columns = [\"CustomerID\", \"Gender\", \"Age\", \"Income\", \"Spending\"]\n",
        "df.head()"
      ],
      "execution_count": 0,
      "outputs": [
        {
          "output_type": "execute_result",
          "data": {
            "text/html": [
              "<div>\n",
              "<style scoped>\n",
              "    .dataframe tbody tr th:only-of-type {\n",
              "        vertical-align: middle;\n",
              "    }\n",
              "\n",
              "    .dataframe tbody tr th {\n",
              "        vertical-align: top;\n",
              "    }\n",
              "\n",
              "    .dataframe thead th {\n",
              "        text-align: right;\n",
              "    }\n",
              "</style>\n",
              "<table border=\"1\" class=\"dataframe\">\n",
              "  <thead>\n",
              "    <tr style=\"text-align: right;\">\n",
              "      <th></th>\n",
              "      <th>CustomerID</th>\n",
              "      <th>Gender</th>\n",
              "      <th>Age</th>\n",
              "      <th>Income</th>\n",
              "      <th>Spending</th>\n",
              "    </tr>\n",
              "  </thead>\n",
              "  <tbody>\n",
              "    <tr>\n",
              "      <th>0</th>\n",
              "      <td>1</td>\n",
              "      <td>Male</td>\n",
              "      <td>19</td>\n",
              "      <td>15</td>\n",
              "      <td>39</td>\n",
              "    </tr>\n",
              "    <tr>\n",
              "      <th>1</th>\n",
              "      <td>2</td>\n",
              "      <td>Male</td>\n",
              "      <td>21</td>\n",
              "      <td>15</td>\n",
              "      <td>81</td>\n",
              "    </tr>\n",
              "    <tr>\n",
              "      <th>2</th>\n",
              "      <td>3</td>\n",
              "      <td>Female</td>\n",
              "      <td>20</td>\n",
              "      <td>16</td>\n",
              "      <td>6</td>\n",
              "    </tr>\n",
              "    <tr>\n",
              "      <th>3</th>\n",
              "      <td>4</td>\n",
              "      <td>Female</td>\n",
              "      <td>23</td>\n",
              "      <td>16</td>\n",
              "      <td>77</td>\n",
              "    </tr>\n",
              "    <tr>\n",
              "      <th>4</th>\n",
              "      <td>5</td>\n",
              "      <td>Female</td>\n",
              "      <td>31</td>\n",
              "      <td>17</td>\n",
              "      <td>40</td>\n",
              "    </tr>\n",
              "  </tbody>\n",
              "</table>\n",
              "</div>"
            ],
            "text/plain": [
              "   CustomerID  Gender  Age  Income  Spending\n",
              "0           1    Male   19      15        39\n",
              "1           2    Male   21      15        81\n",
              "2           3  Female   20      16         6\n",
              "3           4  Female   23      16        77\n",
              "4           5  Female   31      17        40"
            ]
          },
          "metadata": {
            "tags": []
          },
          "execution_count": 12
        }
      ]
    },
    {
      "metadata": {
        "id": "AVECRg6s0Gcv",
        "colab_type": "code",
        "outputId": "676f554d-97ea-470d-cb5e-c4319152e708",
        "colab": {
          "base_uri": "https://localhost:8080/",
          "height": 195
        }
      },
      "cell_type": "code",
      "source": [
        "df.tail()"
      ],
      "execution_count": 0,
      "outputs": [
        {
          "output_type": "execute_result",
          "data": {
            "text/html": [
              "<div>\n",
              "<style scoped>\n",
              "    .dataframe tbody tr th:only-of-type {\n",
              "        vertical-align: middle;\n",
              "    }\n",
              "\n",
              "    .dataframe tbody tr th {\n",
              "        vertical-align: top;\n",
              "    }\n",
              "\n",
              "    .dataframe thead th {\n",
              "        text-align: right;\n",
              "    }\n",
              "</style>\n",
              "<table border=\"1\" class=\"dataframe\">\n",
              "  <thead>\n",
              "    <tr style=\"text-align: right;\">\n",
              "      <th></th>\n",
              "      <th>CustomerID</th>\n",
              "      <th>Gender</th>\n",
              "      <th>Age</th>\n",
              "      <th>Income</th>\n",
              "      <th>Spending</th>\n",
              "    </tr>\n",
              "  </thead>\n",
              "  <tbody>\n",
              "    <tr>\n",
              "      <th>195</th>\n",
              "      <td>196</td>\n",
              "      <td>Female</td>\n",
              "      <td>35</td>\n",
              "      <td>120</td>\n",
              "      <td>79</td>\n",
              "    </tr>\n",
              "    <tr>\n",
              "      <th>196</th>\n",
              "      <td>197</td>\n",
              "      <td>Female</td>\n",
              "      <td>45</td>\n",
              "      <td>126</td>\n",
              "      <td>28</td>\n",
              "    </tr>\n",
              "    <tr>\n",
              "      <th>197</th>\n",
              "      <td>198</td>\n",
              "      <td>Male</td>\n",
              "      <td>32</td>\n",
              "      <td>126</td>\n",
              "      <td>74</td>\n",
              "    </tr>\n",
              "    <tr>\n",
              "      <th>198</th>\n",
              "      <td>199</td>\n",
              "      <td>Male</td>\n",
              "      <td>32</td>\n",
              "      <td>137</td>\n",
              "      <td>18</td>\n",
              "    </tr>\n",
              "    <tr>\n",
              "      <th>199</th>\n",
              "      <td>200</td>\n",
              "      <td>Male</td>\n",
              "      <td>30</td>\n",
              "      <td>137</td>\n",
              "      <td>83</td>\n",
              "    </tr>\n",
              "  </tbody>\n",
              "</table>\n",
              "</div>"
            ],
            "text/plain": [
              "     CustomerID  Gender  Age  Income  Spending\n",
              "195         196  Female   35     120        79\n",
              "196         197  Female   45     126        28\n",
              "197         198    Male   32     126        74\n",
              "198         199    Male   32     137        18\n",
              "199         200    Male   30     137        83"
            ]
          },
          "metadata": {
            "tags": []
          },
          "execution_count": 13
        }
      ]
    },
    {
      "metadata": {
        "id": "GBi8LjHl0Gcx",
        "colab_type": "text"
      },
      "cell_type": "markdown",
      "source": [
        "# Pre-processing\n",
        "\n",
        "We need to do some pre-processing before we can cluster this dataset.\n",
        "\n",
        "Obviously CustomerID is isn't informative, so we can drop that:"
      ]
    },
    {
      "metadata": {
        "id": "pgUni6b50Gcx",
        "colab_type": "code",
        "colab": {}
      },
      "cell_type": "code",
      "source": [
        "# YOUR CODE HERE\n",
        "df = df.drop(\"CustomerID\", axis=1)"
      ],
      "execution_count": 0,
      "outputs": []
    },
    {
      "metadata": {
        "id": "BfWeYZzQ2BYQ",
        "colab_type": "code",
        "outputId": "30878120-42d6-40ff-ce23-35880be0ccae",
        "colab": {
          "base_uri": "https://localhost:8080/",
          "height": 195
        }
      },
      "cell_type": "code",
      "source": [
        "df.head()"
      ],
      "execution_count": 0,
      "outputs": [
        {
          "output_type": "execute_result",
          "data": {
            "text/html": [
              "<div>\n",
              "<style scoped>\n",
              "    .dataframe tbody tr th:only-of-type {\n",
              "        vertical-align: middle;\n",
              "    }\n",
              "\n",
              "    .dataframe tbody tr th {\n",
              "        vertical-align: top;\n",
              "    }\n",
              "\n",
              "    .dataframe thead th {\n",
              "        text-align: right;\n",
              "    }\n",
              "</style>\n",
              "<table border=\"1\" class=\"dataframe\">\n",
              "  <thead>\n",
              "    <tr style=\"text-align: right;\">\n",
              "      <th></th>\n",
              "      <th>Gender</th>\n",
              "      <th>Age</th>\n",
              "      <th>Income</th>\n",
              "      <th>Spending</th>\n",
              "    </tr>\n",
              "  </thead>\n",
              "  <tbody>\n",
              "    <tr>\n",
              "      <th>0</th>\n",
              "      <td>Male</td>\n",
              "      <td>19</td>\n",
              "      <td>15</td>\n",
              "      <td>39</td>\n",
              "    </tr>\n",
              "    <tr>\n",
              "      <th>1</th>\n",
              "      <td>Male</td>\n",
              "      <td>21</td>\n",
              "      <td>15</td>\n",
              "      <td>81</td>\n",
              "    </tr>\n",
              "    <tr>\n",
              "      <th>2</th>\n",
              "      <td>Female</td>\n",
              "      <td>20</td>\n",
              "      <td>16</td>\n",
              "      <td>6</td>\n",
              "    </tr>\n",
              "    <tr>\n",
              "      <th>3</th>\n",
              "      <td>Female</td>\n",
              "      <td>23</td>\n",
              "      <td>16</td>\n",
              "      <td>77</td>\n",
              "    </tr>\n",
              "    <tr>\n",
              "      <th>4</th>\n",
              "      <td>Female</td>\n",
              "      <td>31</td>\n",
              "      <td>17</td>\n",
              "      <td>40</td>\n",
              "    </tr>\n",
              "  </tbody>\n",
              "</table>\n",
              "</div>"
            ],
            "text/plain": [
              "   Gender  Age  Income  Spending\n",
              "0    Male   19      15        39\n",
              "1    Male   21      15        81\n",
              "2  Female   20      16         6\n",
              "3  Female   23      16        77\n",
              "4  Female   31      17        40"
            ]
          },
          "metadata": {
            "tags": []
          },
          "execution_count": 15
        }
      ]
    },
    {
      "metadata": {
        "id": "HGeH2uH00Gc0",
        "colab_type": "text"
      },
      "cell_type": "markdown",
      "source": [
        "### OneHotEncoding"
      ]
    },
    {
      "metadata": {
        "id": "-5BloxCB0Gc0",
        "colab_type": "text"
      },
      "cell_type": "markdown",
      "source": [
        "Let's move on to Gender. It is a string, but strings can't be inserted into a Machine Learning algorithm. Let's take a look:"
      ]
    },
    {
      "metadata": {
        "id": "-EsXvIQM0Gc1",
        "colab_type": "code",
        "outputId": "34fd3994-a17f-4433-aaf8-0ef9be9ceaaf",
        "colab": {
          "base_uri": "https://localhost:8080/",
          "height": 67
        }
      },
      "cell_type": "code",
      "source": [
        "df[\"Gender\"].value_counts()"
      ],
      "execution_count": 0,
      "outputs": [
        {
          "output_type": "execute_result",
          "data": {
            "text/plain": [
              "Female    112\n",
              "Male       88\n",
              "Name: Gender, dtype: int64"
            ]
          },
          "metadata": {
            "tags": []
          },
          "execution_count": 16
        }
      ]
    },
    {
      "metadata": {
        "id": "adydKPJ70Gc3",
        "colab_type": "text"
      },
      "cell_type": "markdown",
      "source": [
        "Ok, only two genders in this dataset. We can *One Hot Encode* this into a new variable `isFemale`.\n",
        "\n",
        "You can call the `.map()` function on any column in a DataFrame, to map or convert all values in that column to new values. The *mapping* needs to be specified as a *dictionary*.\n",
        "\n",
        "For example, to map `Foo` to 1, and `Bar` to 2, you would pass the following dictionary to `map()`:\n",
        "\n",
        "```\n",
        "{\"Foo\": 1,\n",
        " \"Bar\": 2}\n",
        "```"
      ]
    },
    {
      "metadata": {
        "id": "cuvwtiqQ0Gc4",
        "colab_type": "code",
        "colab": {}
      },
      "cell_type": "code",
      "source": [
        "df[\"isFemale\"] = df[\"Gender\"].map({\"Female\": 1, \"Male\": 0})"
      ],
      "execution_count": 0,
      "outputs": []
    },
    {
      "metadata": {
        "id": "Cidc51pC0Gc6",
        "colab_type": "text"
      },
      "cell_type": "markdown",
      "source": [
        "Now, we can drop Gender column:"
      ]
    },
    {
      "metadata": {
        "id": "-Q0eGk9h0Gc6",
        "colab_type": "code",
        "colab": {}
      },
      "cell_type": "code",
      "source": [
        "df = df.drop(\"Gender\", axis=1)"
      ],
      "execution_count": 0,
      "outputs": []
    },
    {
      "metadata": {
        "id": "HDOLDQiE0Gc_",
        "colab_type": "code",
        "outputId": "79e34a2c-0d5e-4d9c-b2c3-28e3b7276f87",
        "colab": {
          "base_uri": "https://localhost:8080/",
          "height": 195
        }
      },
      "cell_type": "code",
      "source": [
        "df.head()"
      ],
      "execution_count": 0,
      "outputs": [
        {
          "output_type": "execute_result",
          "data": {
            "text/html": [
              "<div>\n",
              "<style scoped>\n",
              "    .dataframe tbody tr th:only-of-type {\n",
              "        vertical-align: middle;\n",
              "    }\n",
              "\n",
              "    .dataframe tbody tr th {\n",
              "        vertical-align: top;\n",
              "    }\n",
              "\n",
              "    .dataframe thead th {\n",
              "        text-align: right;\n",
              "    }\n",
              "</style>\n",
              "<table border=\"1\" class=\"dataframe\">\n",
              "  <thead>\n",
              "    <tr style=\"text-align: right;\">\n",
              "      <th></th>\n",
              "      <th>Age</th>\n",
              "      <th>Income</th>\n",
              "      <th>Spending</th>\n",
              "      <th>isFemale</th>\n",
              "    </tr>\n",
              "  </thead>\n",
              "  <tbody>\n",
              "    <tr>\n",
              "      <th>0</th>\n",
              "      <td>19</td>\n",
              "      <td>15</td>\n",
              "      <td>39</td>\n",
              "      <td>0</td>\n",
              "    </tr>\n",
              "    <tr>\n",
              "      <th>1</th>\n",
              "      <td>21</td>\n",
              "      <td>15</td>\n",
              "      <td>81</td>\n",
              "      <td>0</td>\n",
              "    </tr>\n",
              "    <tr>\n",
              "      <th>2</th>\n",
              "      <td>20</td>\n",
              "      <td>16</td>\n",
              "      <td>6</td>\n",
              "      <td>1</td>\n",
              "    </tr>\n",
              "    <tr>\n",
              "      <th>3</th>\n",
              "      <td>23</td>\n",
              "      <td>16</td>\n",
              "      <td>77</td>\n",
              "      <td>1</td>\n",
              "    </tr>\n",
              "    <tr>\n",
              "      <th>4</th>\n",
              "      <td>31</td>\n",
              "      <td>17</td>\n",
              "      <td>40</td>\n",
              "      <td>1</td>\n",
              "    </tr>\n",
              "  </tbody>\n",
              "</table>\n",
              "</div>"
            ],
            "text/plain": [
              "   Age  Income  Spending  isFemale\n",
              "0   19      15        39         0\n",
              "1   21      15        81         0\n",
              "2   20      16         6         1\n",
              "3   23      16        77         1\n",
              "4   31      17        40         1"
            ]
          },
          "metadata": {
            "tags": []
          },
          "execution_count": 19
        }
      ]
    },
    {
      "metadata": {
        "id": "rZ9UHIXr0GdB",
        "colab_type": "text"
      },
      "cell_type": "markdown",
      "source": [
        "### Standardizing"
      ]
    },
    {
      "metadata": {
        "id": "PwR3Rn4Y0GdC",
        "colab_type": "text"
      },
      "cell_type": "markdown",
      "source": [
        "Finally, we should standardize the variables such that they're on the same scale.\n",
        "\n",
        "Most scikit-learn experts would use `sklearn.preprocessing.StandardScaler`, but it is a bit complicated to use. We can also do this ourselves quite easily.\n",
        "\n",
        "A simple way to standardize values, is to subtract the mean, and divide the result by the standard deviation.\n",
        "\n",
        "You can get the mean and standard deviation like this:\n",
        "\n",
        "    df[\"column\"].mean()\n",
        "    df[\"column\"].std()"
      ]
    },
    {
      "metadata": {
        "id": "k5-kFjrJ0GdD",
        "colab_type": "code",
        "outputId": "f592539b-0e94-40fa-9eb2-d7a918af2ccd",
        "colab": {
          "base_uri": "https://localhost:8080/",
          "height": 84
        }
      },
      "cell_type": "code",
      "source": [
        "df_scaled = df.copy()\n",
        "\n",
        "for col in df_scaled.columns:\n",
        "    print(f\"{col} has mean {df[col].mean()}\")\n",
        "    df_scaled[col] = (df[col] - df[col].mean()) / df[col].std()"
      ],
      "execution_count": 0,
      "outputs": [
        {
          "output_type": "stream",
          "text": [
            "Age has mean 38.85\n",
            "Income has mean 60.56\n",
            "Spending has mean 50.2\n",
            "isFemale has mean 0.56\n"
          ],
          "name": "stdout"
        }
      ]
    },
    {
      "metadata": {
        "id": "ZuLofS3g77oU",
        "colab_type": "code",
        "outputId": "def5ba9d-3a17-4bcb-c9d7-781c188473bb",
        "colab": {
          "base_uri": "https://localhost:8080/",
          "height": 84
        }
      },
      "cell_type": "code",
      "source": [
        "for col in df_scaled.columns:\n",
        "    print(f\"{col} has mean {df_scaled[col].mean()}\")"
      ],
      "execution_count": 0,
      "outputs": [
        {
          "output_type": "stream",
          "text": [
            "Age has mean -1.27675647831893e-16\n",
            "Income has mean 1.2434497875801754e-16\n",
            "Spending has mean -1.2212453270876723e-16\n",
            "isFemale has mean -2.020605904817785e-16\n"
          ],
          "name": "stdout"
        }
      ]
    },
    {
      "metadata": {
        "id": "Ka0oHk790GdG",
        "colab_type": "text"
      },
      "cell_type": "markdown",
      "source": [
        "Did you think about operator precedence? Remember that `/` is evaluated before `-`. Use brackets appropriately.\n",
        "\n",
        "Let's see the result:"
      ]
    },
    {
      "metadata": {
        "id": "y3yb2B-m0GdH",
        "colab_type": "code",
        "outputId": "811eb883-f53f-45f0-8b4a-ffbaa21969d9",
        "colab": {
          "base_uri": "https://localhost:8080/",
          "height": 195
        }
      },
      "cell_type": "code",
      "source": [
        "df_scaled.head()"
      ],
      "execution_count": 0,
      "outputs": [
        {
          "output_type": "execute_result",
          "data": {
            "text/html": [
              "<div>\n",
              "<style scoped>\n",
              "    .dataframe tbody tr th:only-of-type {\n",
              "        vertical-align: middle;\n",
              "    }\n",
              "\n",
              "    .dataframe tbody tr th {\n",
              "        vertical-align: top;\n",
              "    }\n",
              "\n",
              "    .dataframe thead th {\n",
              "        text-align: right;\n",
              "    }\n",
              "</style>\n",
              "<table border=\"1\" class=\"dataframe\">\n",
              "  <thead>\n",
              "    <tr style=\"text-align: right;\">\n",
              "      <th></th>\n",
              "      <th>Age</th>\n",
              "      <th>Income</th>\n",
              "      <th>Spending</th>\n",
              "      <th>isFemale</th>\n",
              "    </tr>\n",
              "  </thead>\n",
              "  <tbody>\n",
              "    <tr>\n",
              "      <th>0</th>\n",
              "      <td>-1.421003</td>\n",
              "      <td>-1.734646</td>\n",
              "      <td>-0.433713</td>\n",
              "      <td>-1.125328</td>\n",
              "    </tr>\n",
              "    <tr>\n",
              "      <th>1</th>\n",
              "      <td>-1.277829</td>\n",
              "      <td>-1.734646</td>\n",
              "      <td>1.192711</td>\n",
              "      <td>-1.125328</td>\n",
              "    </tr>\n",
              "    <tr>\n",
              "      <th>2</th>\n",
              "      <td>-1.349416</td>\n",
              "      <td>-1.696572</td>\n",
              "      <td>-1.711618</td>\n",
              "      <td>0.884186</td>\n",
              "    </tr>\n",
              "    <tr>\n",
              "      <th>3</th>\n",
              "      <td>-1.134655</td>\n",
              "      <td>-1.696572</td>\n",
              "      <td>1.037814</td>\n",
              "      <td>0.884186</td>\n",
              "    </tr>\n",
              "    <tr>\n",
              "      <th>4</th>\n",
              "      <td>-0.561958</td>\n",
              "      <td>-1.658498</td>\n",
              "      <td>-0.394989</td>\n",
              "      <td>0.884186</td>\n",
              "    </tr>\n",
              "  </tbody>\n",
              "</table>\n",
              "</div>"
            ],
            "text/plain": [
              "        Age    Income  Spending  isFemale\n",
              "0 -1.421003 -1.734646 -0.433713 -1.125328\n",
              "1 -1.277829 -1.734646  1.192711 -1.125328\n",
              "2 -1.349416 -1.696572 -1.711618  0.884186\n",
              "3 -1.134655 -1.696572  1.037814  0.884186\n",
              "4 -0.561958 -1.658498 -0.394989  0.884186"
            ]
          },
          "metadata": {
            "tags": []
          },
          "execution_count": 25
        }
      ]
    },
    {
      "metadata": {
        "id": "xRbTbg-e0GdJ",
        "colab_type": "code",
        "outputId": "f54fb9c0-205d-46e2-e1c1-20cdbfbd2904",
        "colab": {
          "base_uri": "https://localhost:8080/",
          "height": 282
        }
      },
      "cell_type": "code",
      "source": [
        "df[\"Age\"].hist()"
      ],
      "execution_count": 0,
      "outputs": [
        {
          "output_type": "execute_result",
          "data": {
            "text/plain": [
              "<matplotlib.axes._subplots.AxesSubplot at 0x7f1d4e76e240>"
            ]
          },
          "metadata": {
            "tags": []
          },
          "execution_count": 26
        },
        {
          "output_type": "display_data",
          "data": {
            "image/png": "[encoded data removed]",
            "text/plain": [
              "<Figure size 432x288 with 1 Axes>"
            ]
          },
          "metadata": {
            "tags": []
          }
        }
      ]
    },
    {
      "metadata": {
        "id": "BluidIvp0GdK",
        "colab_type": "code",
        "outputId": "1955be4e-d277-44b5-f99d-d62c4d5edb87",
        "colab": {
          "base_uri": "https://localhost:8080/",
          "height": 282
        }
      },
      "cell_type": "code",
      "source": [
        "df_scaled[\"Age\"].hist()"
      ],
      "execution_count": 0,
      "outputs": [
        {
          "output_type": "execute_result",
          "data": {
            "text/plain": [
              "<matplotlib.axes._subplots.AxesSubplot at 0x7f1d4dc3b4e0>"
            ]
          },
          "metadata": {
            "tags": []
          },
          "execution_count": 27
        },
        {
          "output_type": "display_data",
          "data": {
            "image/png": "[encoded data removed]",
            "text/plain": [
              "<Figure size 432x288 with 1 Axes>"
            ]
          },
          "metadata": {
            "tags": []
          }
        }
      ]
    },
    {
      "metadata": {
        "id": "YAMJ7Wut0GdN",
        "colab_type": "text"
      },
      "cell_type": "markdown",
      "source": [
        "# Clustering"
      ]
    },
    {
      "metadata": {
        "id": "hyP6vhJH0GdO",
        "colab_type": "code",
        "colab": {}
      },
      "cell_type": "code",
      "source": [
        "from sklearn.cluster import KMeans"
      ],
      "execution_count": 0,
      "outputs": []
    },
    {
      "metadata": {
        "id": "ab9HetRS0GdQ",
        "colab_type": "text"
      },
      "cell_type": "markdown",
      "source": [
        "Now, initialize KMeans with 3 clusters. Refer to the [documentation](https://scikit-learn.org/stable/modules/generated/sklearn.cluster.KMeans.html) if needed.\n",
        "\n",
        "Also, make sure to use `random_state=42` to ensure we all get the same results."
      ]
    },
    {
      "metadata": {
        "id": "YGb5tkPh0GdQ",
        "colab_type": "code",
        "colab": {}
      },
      "cell_type": "code",
      "source": [
        "kmeans = KMeans(n_clusters=3, random_state=42)"
      ],
      "execution_count": 0,
      "outputs": []
    },
    {
      "metadata": {
        "id": "jJD1NQLf0GdT",
        "colab_type": "text"
      },
      "cell_type": "markdown",
      "source": [
        "Fit to `df_scaled`:"
      ]
    },
    {
      "metadata": {
        "id": "obGIUMLM0GdT",
        "colab_type": "code",
        "outputId": "9ef78098-db77-4bf5-db66-832bc252bfa9",
        "colab": {
          "base_uri": "https://localhost:8080/",
          "height": 67
        }
      },
      "cell_type": "code",
      "source": [
        "kmeans.fit(df_scaled)"
      ],
      "execution_count": 0,
      "outputs": [
        {
          "output_type": "execute_result",
          "data": {
            "text/plain": [
              "KMeans(algorithm='auto', copy_x=True, init='k-means++', max_iter=300,\n",
              "    n_clusters=3, n_init=10, n_jobs=None, precompute_distances='auto',\n",
              "    random_state=42, tol=0.0001, verbose=0)"
            ]
          },
          "metadata": {
            "tags": []
          },
          "execution_count": 30
        }
      ]
    },
    {
      "metadata": {
        "id": "DsXl3xOs0GdW",
        "colab_type": "text"
      },
      "cell_type": "markdown",
      "source": [
        "Predict `df_scaled`:"
      ]
    },
    {
      "metadata": {
        "id": "PdWuvDxL0GdY",
        "colab_type": "code",
        "colab": {}
      },
      "cell_type": "code",
      "source": [
        "clusters = kmeans.predict(df_scaled)"
      ],
      "execution_count": 0,
      "outputs": []
    },
    {
      "metadata": {
        "id": "2D-FSG7w_M_H",
        "colab_type": "code",
        "colab": {}
      },
      "cell_type": "code",
      "source": [
        "clusters = kmeans.fit_predict(df_scaled)  # same as separate fit() and predict()"
      ],
      "execution_count": 0,
      "outputs": []
    },
    {
      "metadata": {
        "id": "iU8z7qWV0Gda",
        "colab_type": "text"
      },
      "cell_type": "markdown",
      "source": [
        "Let's take a look at the clusters:"
      ]
    },
    {
      "metadata": {
        "id": "-fyitM5M0Gda",
        "colab_type": "code",
        "outputId": "e9b0940d-78e2-4c70-919f-6eb2acc8ae0d",
        "colab": {
          "base_uri": "https://localhost:8080/",
          "height": 185
        }
      },
      "cell_type": "code",
      "source": [
        "clusters"
      ],
      "execution_count": 0,
      "outputs": [
        {
          "output_type": "execute_result",
          "data": {
            "text/plain": [
              "array([0, 0, 1, 0, 1, 0, 1, 0, 2, 0, 2, 0, 1, 0, 2, 0, 1, 0, 2, 0, 2, 0,\n",
              "       1, 0, 1, 0, 1, 0, 1, 0, 2, 0, 2, 0, 1, 0, 1, 0, 1, 0, 1, 0, 2, 0,\n",
              "       1, 0, 1, 1, 1, 1, 1, 0, 1, 2, 1, 2, 1, 2, 0, 2, 2, 0, 1, 1, 2, 0,\n",
              "       1, 1, 0, 1, 2, 1, 1, 1, 2, 0, 1, 2, 0, 1, 2, 2, 2, 1, 0, 2, 1, 0,\n",
              "       0, 1, 1, 0, 2, 1, 1, 0, 1, 0, 2, 0, 0, 1, 2, 0, 2, 0, 1, 2, 2, 2,\n",
              "       2, 0, 1, 0, 0, 0, 1, 1, 1, 1, 0, 1, 1, 0, 1, 0, 2, 0, 2, 0, 2, 0,\n",
              "       1, 0, 2, 0, 1, 0, 2, 0, 1, 0, 1, 0, 2, 0, 2, 0, 1, 0, 2, 0, 1, 0,\n",
              "       1, 0, 2, 0, 2, 0, 1, 0, 2, 0, 2, 0, 2, 0, 1, 0, 2, 0, 2, 0, 1, 0,\n",
              "       2, 0, 2, 0, 1, 0, 2, 0, 1, 0, 1, 0, 1, 0, 1, 0, 2, 0, 1, 0, 1, 0,\n",
              "       2, 0], dtype=int32)"
            ]
          },
          "metadata": {
            "tags": []
          },
          "execution_count": 33
        }
      ]
    },
    {
      "metadata": {
        "id": "R2I9rusa0Gdc",
        "colab_type": "text"
      },
      "cell_type": "markdown",
      "source": [
        "Ok, this doesn't make a lot of sense yet. Let's add these to the original data:"
      ]
    },
    {
      "metadata": {
        "id": "S6JaoOq00Gdd",
        "colab_type": "code",
        "outputId": "c398a2e9-786b-415e-a2a1-2c08599fe1df",
        "colab": {
          "base_uri": "https://localhost:8080/",
          "height": 195
        }
      },
      "cell_type": "code",
      "source": [
        "df_cluster = df.copy().assign(cluster=clusters)\n",
        "df_cluster.head()"
      ],
      "execution_count": 0,
      "outputs": [
        {
          "output_type": "execute_result",
          "data": {
            "text/html": [
              "<div>\n",
              "<style scoped>\n",
              "    .dataframe tbody tr th:only-of-type {\n",
              "        vertical-align: middle;\n",
              "    }\n",
              "\n",
              "    .dataframe tbody tr th {\n",
              "        vertical-align: top;\n",
              "    }\n",
              "\n",
              "    .dataframe thead th {\n",
              "        text-align: right;\n",
              "    }\n",
              "</style>\n",
              "<table border=\"1\" class=\"dataframe\">\n",
              "  <thead>\n",
              "    <tr style=\"text-align: right;\">\n",
              "      <th></th>\n",
              "      <th>Age</th>\n",
              "      <th>Income</th>\n",
              "      <th>Spending</th>\n",
              "      <th>isFemale</th>\n",
              "      <th>cluster</th>\n",
              "    </tr>\n",
              "  </thead>\n",
              "  <tbody>\n",
              "    <tr>\n",
              "      <th>0</th>\n",
              "      <td>19</td>\n",
              "      <td>15</td>\n",
              "      <td>39</td>\n",
              "      <td>0</td>\n",
              "      <td>0</td>\n",
              "    </tr>\n",
              "    <tr>\n",
              "      <th>1</th>\n",
              "      <td>21</td>\n",
              "      <td>15</td>\n",
              "      <td>81</td>\n",
              "      <td>0</td>\n",
              "      <td>0</td>\n",
              "    </tr>\n",
              "    <tr>\n",
              "      <th>2</th>\n",
              "      <td>20</td>\n",
              "      <td>16</td>\n",
              "      <td>6</td>\n",
              "      <td>1</td>\n",
              "      <td>1</td>\n",
              "    </tr>\n",
              "    <tr>\n",
              "      <th>3</th>\n",
              "      <td>23</td>\n",
              "      <td>16</td>\n",
              "      <td>77</td>\n",
              "      <td>1</td>\n",
              "      <td>0</td>\n",
              "    </tr>\n",
              "    <tr>\n",
              "      <th>4</th>\n",
              "      <td>31</td>\n",
              "      <td>17</td>\n",
              "      <td>40</td>\n",
              "      <td>1</td>\n",
              "      <td>1</td>\n",
              "    </tr>\n",
              "  </tbody>\n",
              "</table>\n",
              "</div>"
            ],
            "text/plain": [
              "   Age  Income  Spending  isFemale  cluster\n",
              "0   19      15        39         0        0\n",
              "1   21      15        81         0        0\n",
              "2   20      16         6         1        1\n",
              "3   23      16        77         1        0\n",
              "4   31      17        40         1        1"
            ]
          },
          "metadata": {
            "tags": []
          },
          "execution_count": 34
        }
      ]
    },
    {
      "metadata": {
        "id": "-vB_HSnj0Gdf",
        "colab_type": "text"
      },
      "cell_type": "markdown",
      "source": [
        "Now we have to figure out if these clusters make sense. Maybe we can describe each cluster and assign names to them? We are now going to have to make some plots to figure out in what way the clusters differ."
      ]
    },
    {
      "metadata": {
        "id": "RCUNuZnO0Gdg",
        "colab_type": "code",
        "outputId": "28f9a640-4bfa-4758-b47f-98ef757fa7f2",
        "colab": {
          "base_uri": "https://localhost:8080/",
          "height": 1178
        }
      },
      "cell_type": "code",
      "source": [
        "for col in [c for c in df.columns if c != \"cluster\"]:\n",
        "  sns.boxplot(x=\"cluster\", y=col, data=df_cluster)\n",
        "  plt.title(col)\n",
        "  plt.show()"
      ],
      "execution_count": 0,
      "outputs": [
        {
          "output_type": "stream",
          "text": [
            "/usr/local/lib/python3.6/dist-packages/seaborn/categorical.py:454: FutureWarning: remove_na is deprecated and is a private function. Do not use.\n",
            "  box_data = remove_na(group_data)\n"
          ],
          "name": "stderr"
        },
        {
          "output_type": "display_data",
          "data": {
            "image/png": "[encoded data removed]",
            "text/plain": [
              "<Figure size 432x288 with 1 Axes>"
            ]
          },
          "metadata": {
            "tags": []
          }
        },
        {
          "output_type": "display_data",
          "data": {
            "image/png": "[encoded data removed]",
            "text/plain": [
              "<Figure size 432x288 with 1 Axes>"
            ]
          },
          "metadata": {
            "tags": []
          }
        },
        {
          "output_type": "display_data",
          "data": {
            "image/png": "[encoded data removed]",
            "text/plain": [
              "<Figure size 432x288 with 1 Axes>"
            ]
          },
          "metadata": {
            "tags": []
          }
        },
        {
          "output_type": "display_data",
          "data": {
            "image/png": "[encoded data removed]",
            "text/plain": [
              "<Figure size 432x288 with 1 Axes>"
            ]
          },
          "metadata": {
            "tags": []
          }
        }
      ]
    },
    {
      "metadata": {
        "id": "WaVqiMAu0Gdi",
        "colab_type": "text"
      },
      "cell_type": "markdown",
      "source": [
        "Exercise: check out all variables and see how the clusters differ. Boxplots are good, but you might also like `violinplot`.\n"
      ]
    },
    {
      "metadata": {
        "id": "PTfp5YGA0Gdk",
        "colab_type": "text"
      },
      "cell_type": "markdown",
      "source": [
        "It's also nice to visualize them in a scatterplot:"
      ]
    },
    {
      "metadata": {
        "id": "_sNeqExx0Gdk",
        "colab_type": "code",
        "outputId": "77ae6cf0-6989-46ae-bd6a-b5c23a460b0b",
        "colab": {
          "base_uri": "https://localhost:8080/",
          "height": 296
        }
      },
      "cell_type": "code",
      "source": [
        "x = \"Income\" \n",
        "y = \"Spending\"\n",
        "\n",
        "for cluster in df_cluster[\"cluster\"].unique():\n",
        "    df_cluster_single = df_cluster[df_cluster[\"cluster\"] == cluster]\n",
        "    plt.scatter(df_cluster_single[x], df_cluster_single[y], label=f\"Cluster: {cluster}\")\n",
        "plt.legend()\n",
        "plt.xlabel(x)\n",
        "plt.ylabel(y)"
      ],
      "execution_count": 0,
      "outputs": [
        {
          "output_type": "execute_result",
          "data": {
            "text/plain": [
              "Text(0, 0.5, 'Spending')"
            ]
          },
          "metadata": {
            "tags": []
          },
          "execution_count": 36
        },
        {
          "output_type": "display_data",
          "data": {
            "image/png": "[encoded data removed]",
            "text/plain": [
              "<Figure size 432x288 with 1 Axes>"
            ]
          },
          "metadata": {
            "tags": []
          }
        }
      ]
    },
    {
      "metadata": {
        "id": "V267IUeq0Gdm",
        "colab_type": "text"
      },
      "cell_type": "markdown",
      "source": [
        "**Exercise**:\n",
        "\n",
        "Think of a name for each cluster, based on their properties!\n",
        "\n",
        "- Cluster 0: Yuppen\n",
        "- Cluster 1:\n",
        "- Cluster 2: Lifelong hobo's\n"
      ]
    },
    {
      "metadata": {
        "id": "BewnkE3z1pC1",
        "colab_type": "code",
        "colab": {}
      },
      "cell_type": "code",
      "source": [
        ""
      ],
      "execution_count": 0,
      "outputs": []
    },
    {
      "metadata": {
        "id": "tzjCVaOX0Gdn",
        "colab_type": "text"
      },
      "cell_type": "markdown",
      "source": [
        "# Open ended bonus assignments\n",
        "- Try increasing the number of clusters. Do you (still) get sensible results?\n",
        "- Do 10 fits, with number of clusters from 1 to 10. For each fit, grab the `_intertia` value. Plot this in a graph and perform the *elbow method* to find the optimal number of clusters.\n",
        "- Try clustering the wine quality dataset and see what interesting things you can find."
      ]
    },
    {
      "metadata": {
        "id": "ihHWRlG5BNZM",
        "colab_type": "code",
        "colab": {}
      },
      "cell_type": "code",
      "source": [
        "ks = list(range(1, 30))\n",
        "inertias = []\n",
        "for k in ks:\n",
        "  inertias.append(KMeans(n_clusters=k).fit(df_scaled).inertia_)"
      ],
      "execution_count": 0,
      "outputs": []
    },
    {
      "metadata": {
        "id": "5b2-g3pbBP4d",
        "colab_type": "code",
        "outputId": "55a6d9a6-6ed2-4e19-dc07-aef669e15cde",
        "colab": {
          "base_uri": "https://localhost:8080/",
          "height": 297
        }
      },
      "cell_type": "code",
      "source": [
        "plt.plot(ks, inertias, marker='o')\n",
        "plt.title(\"Elbow method plot\")"
      ],
      "execution_count": 0,
      "outputs": [
        {
          "output_type": "execute_result",
          "data": {
            "text/plain": [
              "Text(0.5, 1.0, 'Elbow method plot')"
            ]
          },
          "metadata": {
            "tags": []
          },
          "execution_count": 38
        },
        {
          "output_type": "display_data",
          "data": {
            "image/png": "[encoded data removed]",
            "text/plain": [
              "<Figure size 432x288 with 1 Axes>"
            ]
          },
          "metadata": {
            "tags": []
          }
        }
      ]
    },
    {
      "metadata": {
        "id": "-4-OTbMyB0_W",
        "colab_type": "code",
        "colab": {}
      },
      "cell_type": "code",
      "source": [
        ""
      ],
      "execution_count": 0,
      "outputs": []
    },
    {
      "metadata": {
        "id": "x3nE0xuLBp9L",
        "colab_type": "code",
        "colab": {}
      },
      "cell_type": "code",
      "source": [
        ""
      ],
      "execution_count": 0,
      "outputs": []
    }
  ]
}