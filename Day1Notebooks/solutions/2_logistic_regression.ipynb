{
  "nbformat": 4,
  "nbformat_minor": 0,
  "metadata": {
    "colab": {
      "name": "Copy of 2_logistic_regression.ipynb",
      "version": "0.3.2",
      "provenance": [],
      "collapsed_sections": []
    },
    "kernelspec": {
      "display_name": "Python 3",
      "language": "python",
      "name": "python3"
    }
  },
  "cells": [
    {
      "metadata": {
        "id": "uq0viFCsWmr5",
        "colab_type": "code",
        "colab": {}
      },
      "cell_type": "code",
      "source": [
        "import numpy as np\n",
        "import pandas as pd\n",
        "import seaborn as sns\n",
        "import matplotlib.pyplot as plt\n",
        "%matplotlib inline"
      ],
      "execution_count": 0,
      "outputs": []
    },
    {
      "metadata": {
        "id": "f-AFlcn1Wmr_",
        "colab_type": "text"
      },
      "cell_type": "markdown",
      "source": [
        "\n",
        "### Let's take a look at the data..."
      ]
    },
    {
      "metadata": {
        "id": "NDdyEWw2WmsA",
        "colab_type": "code",
        "colab": {}
      },
      "cell_type": "code",
      "source": [
        "df = pd.read_csv(\"https://raw.githubusercontent.com/jvanlier/TIAS_ML_DL/master/Day1Notebooks/data/winequality-red.csv\")"
      ],
      "execution_count": 0,
      "outputs": []
    },
    {
      "metadata": {
        "id": "UJmdEaqrWmsC",
        "colab_type": "code",
        "outputId": "467e21d4-3bcf-4e8a-9ee3-582607b2cec3",
        "colab": {
          "base_uri": "https://localhost:8080/",
          "height": 219
        }
      },
      "cell_type": "code",
      "source": [
        "df.head()"
      ],
      "execution_count": 0,
      "outputs": [
        {
          "output_type": "execute_result",
          "data": {
            "text/html": [
              "<div>\n",
              "<style scoped>\n",
              "    .dataframe tbody tr th:only-of-type {\n",
              "        vertical-align: middle;\n",
              "    }\n",
              "\n",
              "    .dataframe tbody tr th {\n",
              "        vertical-align: top;\n",
              "    }\n",
              "\n",
              "    .dataframe thead th {\n",
              "        text-align: right;\n",
              "    }\n",
              "</style>\n",
              "<table border=\"1\" class=\"dataframe\">\n",
              "  <thead>\n",
              "    <tr style=\"text-align: right;\">\n",
              "      <th></th>\n",
              "      <th>fixed acidity</th>\n",
              "      <th>volatile acidity</th>\n",
              "      <th>citric acid</th>\n",
              "      <th>residual sugar</th>\n",
              "      <th>chlorides</th>\n",
              "      <th>free sulfur dioxide</th>\n",
              "      <th>total sulfur dioxide</th>\n",
              "      <th>density</th>\n",
              "      <th>pH</th>\n",
              "      <th>sulphates</th>\n",
              "      <th>alcohol</th>\n",
              "      <th>quality</th>\n",
              "    </tr>\n",
              "  </thead>\n",
              "  <tbody>\n",
              "    <tr>\n",
              "      <th>0</th>\n",
              "      <td>10.4</td>\n",
              "      <td>0.44</td>\n",
              "      <td>0.42</td>\n",
              "      <td>1.5</td>\n",
              "      <td>0.145</td>\n",
              "      <td>34.0</td>\n",
              "      <td>48.0</td>\n",
              "      <td>0.99832</td>\n",
              "      <td>3.38</td>\n",
              "      <td>0.86</td>\n",
              "      <td>9.90</td>\n",
              "      <td>3</td>\n",
              "    </tr>\n",
              "    <tr>\n",
              "      <th>1</th>\n",
              "      <td>10.4</td>\n",
              "      <td>0.61</td>\n",
              "      <td>0.49</td>\n",
              "      <td>2.1</td>\n",
              "      <td>0.200</td>\n",
              "      <td>5.0</td>\n",
              "      <td>16.0</td>\n",
              "      <td>0.99940</td>\n",
              "      <td>3.16</td>\n",
              "      <td>0.63</td>\n",
              "      <td>8.40</td>\n",
              "      <td>3</td>\n",
              "    </tr>\n",
              "    <tr>\n",
              "      <th>2</th>\n",
              "      <td>6.7</td>\n",
              "      <td>0.76</td>\n",
              "      <td>0.02</td>\n",
              "      <td>1.8</td>\n",
              "      <td>0.078</td>\n",
              "      <td>6.0</td>\n",
              "      <td>12.0</td>\n",
              "      <td>0.99600</td>\n",
              "      <td>3.55</td>\n",
              "      <td>0.63</td>\n",
              "      <td>9.95</td>\n",
              "      <td>3</td>\n",
              "    </tr>\n",
              "    <tr>\n",
              "      <th>3</th>\n",
              "      <td>11.6</td>\n",
              "      <td>0.58</td>\n",
              "      <td>0.66</td>\n",
              "      <td>2.2</td>\n",
              "      <td>0.074</td>\n",
              "      <td>10.0</td>\n",
              "      <td>47.0</td>\n",
              "      <td>1.00080</td>\n",
              "      <td>3.25</td>\n",
              "      <td>0.57</td>\n",
              "      <td>9.00</td>\n",
              "      <td>3</td>\n",
              "    </tr>\n",
              "    <tr>\n",
              "      <th>4</th>\n",
              "      <td>7.3</td>\n",
              "      <td>0.98</td>\n",
              "      <td>0.05</td>\n",
              "      <td>2.1</td>\n",
              "      <td>0.061</td>\n",
              "      <td>20.0</td>\n",
              "      <td>49.0</td>\n",
              "      <td>0.99705</td>\n",
              "      <td>3.31</td>\n",
              "      <td>0.55</td>\n",
              "      <td>9.70</td>\n",
              "      <td>3</td>\n",
              "    </tr>\n",
              "  </tbody>\n",
              "</table>\n",
              "</div>"
            ],
            "text/plain": [
              "   fixed acidity  volatile acidity  citric acid  residual sugar  chlorides  \\\n",
              "0           10.4              0.44         0.42             1.5      0.145   \n",
              "1           10.4              0.61         0.49             2.1      0.200   \n",
              "2            6.7              0.76         0.02             1.8      0.078   \n",
              "3           11.6              0.58         0.66             2.2      0.074   \n",
              "4            7.3              0.98         0.05             2.1      0.061   \n",
              "\n",
              "   free sulfur dioxide  total sulfur dioxide  density    pH  sulphates  \\\n",
              "0                 34.0                  48.0  0.99832  3.38       0.86   \n",
              "1                  5.0                  16.0  0.99940  3.16       0.63   \n",
              "2                  6.0                  12.0  0.99600  3.55       0.63   \n",
              "3                 10.0                  47.0  1.00080  3.25       0.57   \n",
              "4                 20.0                  49.0  0.99705  3.31       0.55   \n",
              "\n",
              "   alcohol  quality  \n",
              "0     9.90        3  \n",
              "1     8.40        3  \n",
              "2     9.95        3  \n",
              "3     9.00        3  \n",
              "4     9.70        3  "
            ]
          },
          "metadata": {
            "tags": []
          },
          "execution_count": 6
        }
      ]
    },
    {
      "metadata": {
        "id": "84_F9HJGWmsF",
        "colab_type": "text"
      },
      "cell_type": "markdown",
      "source": [
        "Ok, we want to classify the quality, but it's a numeric value.\n",
        "Let's take a look at the distribution."
      ]
    },
    {
      "metadata": {
        "id": "WSAGXAe4WmsG",
        "colab_type": "code",
        "outputId": "1e19819e-6276-4527-b177-e11f774343a5",
        "colab": {
          "base_uri": "https://localhost:8080/",
          "height": 283
        }
      },
      "cell_type": "code",
      "source": [
        "df[\"quality\"].hist(bins=df[\"quality\"].nunique())"
      ],
      "execution_count": 0,
      "outputs": [
        {
          "output_type": "execute_result",
          "data": {
            "text/plain": [
              "<matplotlib.axes._subplots.AxesSubplot at 0x7fa40aa27e10>"
            ]
          },
          "metadata": {
            "tags": []
          },
          "execution_count": 7
        },
        {
          "output_type": "display_data",
          "data": {
            "image/png": "[encoded data removed]",
            "text/plain": [
              "<Figure size 432x288 with 1 Axes>"
            ]
          },
          "metadata": {
            "tags": []
          }
        }
      ]
    },
    {
      "metadata": {
        "id": "YGB99GWTWmsJ",
        "colab_type": "text"
      },
      "cell_type": "markdown",
      "source": [
        "Ok, let's call wines with quality 6, 7 or 8 \"good\". The rest is \"not good\"."
      ]
    },
    {
      "metadata": {
        "id": "NF-wCfW5WmsK",
        "colab_type": "code",
        "colab": {}
      },
      "cell_type": "code",
      "source": [
        "df[\"isGood\"] = 0\n",
        "df.loc[df[\"quality\"] >= 6, \"isGood\"] = 1"
      ],
      "execution_count": 0,
      "outputs": []
    },
    {
      "metadata": {
        "id": "18rQiPg1WmsN",
        "colab_type": "code",
        "outputId": "7f054438-3613-4f9b-9f67-bda3d2fc91bd",
        "colab": {
          "base_uri": "https://localhost:8080/",
          "height": 69
        }
      },
      "cell_type": "code",
      "source": [
        "df[\"isGood\"].value_counts()"
      ],
      "execution_count": 0,
      "outputs": [
        {
          "output_type": "execute_result",
          "data": {
            "text/plain": [
              "1    855\n",
              "0    744\n",
              "Name: isGood, dtype: int64"
            ]
          },
          "metadata": {
            "tags": []
          },
          "execution_count": 9
        }
      ]
    },
    {
      "metadata": {
        "id": "Jxb0cIBNWmsP",
        "colab_type": "text"
      },
      "cell_type": "markdown",
      "source": [
        "Good, the distribution of 0s and 1s is pretty balanced. This should make it easier to classify and evaluate."
      ]
    },
    {
      "metadata": {
        "id": "5_J4zQEwWmsQ",
        "colab_type": "code",
        "colab": {}
      },
      "cell_type": "code",
      "source": [
        "df = df.drop(\"quality\", axis=1)"
      ],
      "execution_count": 0,
      "outputs": []
    },
    {
      "metadata": {
        "id": "IMT-9-VsWmsU",
        "colab_type": "text"
      },
      "cell_type": "markdown",
      "source": [
        "Ok, we've now binarized the target variable."
      ]
    },
    {
      "metadata": {
        "id": "OHFPUq45WmsV",
        "colab_type": "code",
        "outputId": "e9a104de-f815-4f2f-c266-a94cb2c215e9",
        "colab": {
          "base_uri": "https://localhost:8080/",
          "height": 219
        }
      },
      "cell_type": "code",
      "source": [
        "df.head()"
      ],
      "execution_count": 0,
      "outputs": [
        {
          "output_type": "execute_result",
          "data": {
            "text/html": [
              "<div>\n",
              "<style scoped>\n",
              "    .dataframe tbody tr th:only-of-type {\n",
              "        vertical-align: middle;\n",
              "    }\n",
              "\n",
              "    .dataframe tbody tr th {\n",
              "        vertical-align: top;\n",
              "    }\n",
              "\n",
              "    .dataframe thead th {\n",
              "        text-align: right;\n",
              "    }\n",
              "</style>\n",
              "<table border=\"1\" class=\"dataframe\">\n",
              "  <thead>\n",
              "    <tr style=\"text-align: right;\">\n",
              "      <th></th>\n",
              "      <th>fixed acidity</th>\n",
              "      <th>volatile acidity</th>\n",
              "      <th>citric acid</th>\n",
              "      <th>residual sugar</th>\n",
              "      <th>chlorides</th>\n",
              "      <th>free sulfur dioxide</th>\n",
              "      <th>total sulfur dioxide</th>\n",
              "      <th>density</th>\n",
              "      <th>pH</th>\n",
              "      <th>sulphates</th>\n",
              "      <th>alcohol</th>\n",
              "      <th>isGood</th>\n",
              "    </tr>\n",
              "  </thead>\n",
              "  <tbody>\n",
              "    <tr>\n",
              "      <th>0</th>\n",
              "      <td>10.4</td>\n",
              "      <td>0.44</td>\n",
              "      <td>0.42</td>\n",
              "      <td>1.5</td>\n",
              "      <td>0.145</td>\n",
              "      <td>34.0</td>\n",
              "      <td>48.0</td>\n",
              "      <td>0.99832</td>\n",
              "      <td>3.38</td>\n",
              "      <td>0.86</td>\n",
              "      <td>9.90</td>\n",
              "      <td>0</td>\n",
              "    </tr>\n",
              "    <tr>\n",
              "      <th>1</th>\n",
              "      <td>10.4</td>\n",
              "      <td>0.61</td>\n",
              "      <td>0.49</td>\n",
              "      <td>2.1</td>\n",
              "      <td>0.200</td>\n",
              "      <td>5.0</td>\n",
              "      <td>16.0</td>\n",
              "      <td>0.99940</td>\n",
              "      <td>3.16</td>\n",
              "      <td>0.63</td>\n",
              "      <td>8.40</td>\n",
              "      <td>0</td>\n",
              "    </tr>\n",
              "    <tr>\n",
              "      <th>2</th>\n",
              "      <td>6.7</td>\n",
              "      <td>0.76</td>\n",
              "      <td>0.02</td>\n",
              "      <td>1.8</td>\n",
              "      <td>0.078</td>\n",
              "      <td>6.0</td>\n",
              "      <td>12.0</td>\n",
              "      <td>0.99600</td>\n",
              "      <td>3.55</td>\n",
              "      <td>0.63</td>\n",
              "      <td>9.95</td>\n",
              "      <td>0</td>\n",
              "    </tr>\n",
              "    <tr>\n",
              "      <th>3</th>\n",
              "      <td>11.6</td>\n",
              "      <td>0.58</td>\n",
              "      <td>0.66</td>\n",
              "      <td>2.2</td>\n",
              "      <td>0.074</td>\n",
              "      <td>10.0</td>\n",
              "      <td>47.0</td>\n",
              "      <td>1.00080</td>\n",
              "      <td>3.25</td>\n",
              "      <td>0.57</td>\n",
              "      <td>9.00</td>\n",
              "      <td>0</td>\n",
              "    </tr>\n",
              "    <tr>\n",
              "      <th>4</th>\n",
              "      <td>7.3</td>\n",
              "      <td>0.98</td>\n",
              "      <td>0.05</td>\n",
              "      <td>2.1</td>\n",
              "      <td>0.061</td>\n",
              "      <td>20.0</td>\n",
              "      <td>49.0</td>\n",
              "      <td>0.99705</td>\n",
              "      <td>3.31</td>\n",
              "      <td>0.55</td>\n",
              "      <td>9.70</td>\n",
              "      <td>0</td>\n",
              "    </tr>\n",
              "  </tbody>\n",
              "</table>\n",
              "</div>"
            ],
            "text/plain": [
              "   fixed acidity  volatile acidity  citric acid  residual sugar  chlorides  \\\n",
              "0           10.4              0.44         0.42             1.5      0.145   \n",
              "1           10.4              0.61         0.49             2.1      0.200   \n",
              "2            6.7              0.76         0.02             1.8      0.078   \n",
              "3           11.6              0.58         0.66             2.2      0.074   \n",
              "4            7.3              0.98         0.05             2.1      0.061   \n",
              "\n",
              "   free sulfur dioxide  total sulfur dioxide  density    pH  sulphates  \\\n",
              "0                 34.0                  48.0  0.99832  3.38       0.86   \n",
              "1                  5.0                  16.0  0.99940  3.16       0.63   \n",
              "2                  6.0                  12.0  0.99600  3.55       0.63   \n",
              "3                 10.0                  47.0  1.00080  3.25       0.57   \n",
              "4                 20.0                  49.0  0.99705  3.31       0.55   \n",
              "\n",
              "   alcohol  isGood  \n",
              "0     9.90       0  \n",
              "1     8.40       0  \n",
              "2     9.95       0  \n",
              "3     9.00       0  \n",
              "4     9.70       0  "
            ]
          },
          "metadata": {
            "tags": []
          },
          "execution_count": 11
        }
      ]
    },
    {
      "metadata": {
        "id": "k4bu-d0AWmsb",
        "colab_type": "code",
        "colab": {}
      },
      "cell_type": "code",
      "source": [
        "# Save it for later\n",
        "df.to_csv(\"/tmp/wine-binary.csv\", index=False)"
      ],
      "execution_count": 0,
      "outputs": []
    },
    {
      "metadata": {
        "id": "qdkt3NqEWmsf",
        "colab_type": "text"
      },
      "cell_type": "markdown",
      "source": [
        "### A first model\n",
        "\n",
        "Let's go with Logistic Regression.\n",
        "\n",
        "Take a look at the documentation [here](https://scikit-learn.org/stable/modules/generated/sklearn.linear_model.LogisticRegression.html) and try to import it.\n"
      ]
    },
    {
      "metadata": {
        "id": "E0ZVyYb0Wmsg",
        "colab_type": "code",
        "colab": {}
      },
      "cell_type": "code",
      "source": [
        "#from sklearn # ... YOUR CODE HERE\n",
        "from sklearn.linear_model import LogisticRegression"
      ],
      "execution_count": 0,
      "outputs": []
    },
    {
      "metadata": {
        "id": "P33iqP6zWmsi",
        "colab_type": "code",
        "colab": {}
      },
      "cell_type": "code",
      "source": [
        "model = LogisticRegression()"
      ],
      "execution_count": 0,
      "outputs": []
    },
    {
      "metadata": {
        "id": "jocajnzSWmsk",
        "colab_type": "code",
        "colab": {}
      },
      "cell_type": "code",
      "source": [
        "X = df.drop(\"isGood\", axis=1)  # Make sure that the target is not also part of the features!\n",
        "y = df[\"isGood\"]"
      ],
      "execution_count": 0,
      "outputs": []
    },
    {
      "metadata": {
        "id": "F82HD5H5Wmsl",
        "colab_type": "text"
      },
      "cell_type": "markdown",
      "source": [
        "Try to train the classifier below (on the full data set, so no train/test split yet):\n",
        "\n",
        "Hint: take a look at the [documentation](https://scikit-learn.org/stable/modules/generated/sklearn.linear_model.LogisticRegression.html#sklearn.linear_model.LogisticRegression.fit)."
      ]
    },
    {
      "metadata": {
        "id": "g8nsmH4UWmsm",
        "colab_type": "code",
        "outputId": "6fee6d07-79fe-45d8-bfce-484d4f340793",
        "colab": {
          "base_uri": "https://localhost:8080/",
          "height": 141
        }
      },
      "cell_type": "code",
      "source": [
        "#model. # ... YOUR CODE HERE\n",
        "model.fit(X, y)"
      ],
      "execution_count": 0,
      "outputs": [
        {
          "output_type": "stream",
          "text": [
            "/usr/local/lib/python3.6/dist-packages/sklearn/linear_model/logistic.py:433: FutureWarning: Default solver will be changed to 'lbfgs' in 0.22. Specify a solver to silence this warning.\n",
            "  FutureWarning)\n"
          ],
          "name": "stderr"
        },
        {
          "output_type": "execute_result",
          "data": {
            "text/plain": [
              "LogisticRegression(C=1.0, class_weight=None, dual=False, fit_intercept=True,\n",
              "          intercept_scaling=1, max_iter=100, multi_class='warn',\n",
              "          n_jobs=None, penalty='l2', random_state=None, solver='warn',\n",
              "          tol=0.0001, verbose=0, warm_start=False)"
            ]
          },
          "metadata": {
            "tags": []
          },
          "execution_count": 30
        }
      ]
    },
    {
      "metadata": {
        "id": "GolN98a_Wmso",
        "colab_type": "text"
      },
      "cell_type": "markdown",
      "source": [
        "Now, try to get a score below.\n",
        "\n",
        "Again, you might want to check the [documentation](https://scikit-learn.org/stable/modules/generated/sklearn.linear_model.LogisticRegression.html#sklearn.linear_model.LogisticRegression.score)."
      ]
    },
    {
      "metadata": {
        "id": "MFlyJATFWmsp",
        "colab_type": "code",
        "outputId": "1e93a7c5-6f2c-4f54-bbb3-85130dc3c3bd",
        "colab": {
          "base_uri": "https://localhost:8080/",
          "height": 35
        }
      },
      "cell_type": "code",
      "source": [
        "#model.  # ... YOUR CODE HERE\n",
        "model.score(X, y)"
      ],
      "execution_count": 0,
      "outputs": [
        {
          "output_type": "execute_result",
          "data": {
            "text/plain": [
              "0.7435897435897436"
            ]
          },
          "metadata": {
            "tags": []
          },
          "execution_count": 31
        }
      ]
    },
    {
      "metadata": {
        "id": "1WuSVkC_Wmsr",
        "colab_type": "text"
      },
      "cell_type": "markdown",
      "source": [
        "What do you think about this score? Good? Bad?"
      ]
    },
    {
      "metadata": {
        "id": "tRkDPuXeWmss",
        "colab_type": "text"
      },
      "cell_type": "markdown",
      "source": [
        "Before you move on, try and see what happens if we're *not* dropping \"isGood\" from the dataset before fitting. What is the effect on the score?\n",
        "\n",
        "Restore the drop before moving on."
      ]
    },
    {
      "metadata": {
        "id": "YSF86gdgWmst",
        "colab_type": "text"
      },
      "cell_type": "markdown",
      "source": [
        "To evaluate whether the score is good, it's always wise to compare it to a simple baseline.\n",
        "\n",
        "Let's take a look the number of 0's and the number of 1's again:"
      ]
    },
    {
      "metadata": {
        "id": "iwUSANGXWmst",
        "colab_type": "code",
        "outputId": "2ab10afc-23cb-41e9-d1ca-51b3e5921da2",
        "colab": {
          "base_uri": "https://localhost:8080/",
          "height": 69
        }
      },
      "cell_type": "code",
      "source": [
        "df[\"isGood\"].value_counts()"
      ],
      "execution_count": 0,
      "outputs": [
        {
          "output_type": "execute_result",
          "data": {
            "text/plain": [
              "1    855\n",
              "0    744\n",
              "Name: isGood, dtype: int64"
            ]
          },
          "metadata": {
            "tags": []
          },
          "execution_count": 32
        }
      ]
    },
    {
      "metadata": {
        "id": "T1rnbGcBWmsw",
        "colab_type": "text"
      },
      "cell_type": "markdown",
      "source": [
        "What would the accuracy be if we always predict the majority class: 1?"
      ]
    },
    {
      "metadata": {
        "id": "a-671bhuWmsx",
        "colab_type": "code",
        "outputId": "e1c8c627-dde0-4f63-d731-a14346c84ba7",
        "colab": {
          "base_uri": "https://localhost:8080/",
          "height": 35
        }
      },
      "cell_type": "code",
      "source": [
        "# YOUR CODE HERE\n",
        "855 / (855 + 744)"
      ],
      "execution_count": 0,
      "outputs": [
        {
          "output_type": "execute_result",
          "data": {
            "text/plain": [
              "0.5347091932457786"
            ]
          },
          "metadata": {
            "tags": []
          },
          "execution_count": 33
        }
      ]
    },
    {
      "metadata": {
        "id": "Gq1IDrP8Wmsz",
        "colab_type": "text"
      },
      "cell_type": "markdown",
      "source": [
        "So, how do you feel about the model's accuracy?"
      ]
    },
    {
      "metadata": {
        "id": "1K6jWE7PWms0",
        "colab_type": "text"
      },
      "cell_type": "markdown",
      "source": [
        "## Let's see some examples"
      ]
    },
    {
      "metadata": {
        "id": "q4HcHSJ0Wms0",
        "colab_type": "code",
        "colab": {}
      },
      "cell_type": "code",
      "source": [
        ""
      ],
      "execution_count": 0,
      "outputs": []
    },
    {
      "metadata": {
        "id": "auEJXZ1wWms2",
        "colab_type": "code",
        "outputId": "791dce38-097b-402a-9d61-3279f7899b2b",
        "colab": {
          "base_uri": "https://localhost:8080/",
          "height": 114
        }
      },
      "cell_type": "code",
      "source": [
        "random_example = X.sample(n=1)\n",
        "print(\"True 'isGood' value: {}\".format(df.loc[random_example.index, \"isGood\"].values[0]))\n",
        "random_example"
      ],
      "execution_count": 0,
      "outputs": [
        {
          "output_type": "stream",
          "text": [
            "True 'isGood' value: 0\n"
          ],
          "name": "stdout"
        },
        {
          "output_type": "execute_result",
          "data": {
            "text/html": [
              "<div>\n",
              "<style scoped>\n",
              "    .dataframe tbody tr th:only-of-type {\n",
              "        vertical-align: middle;\n",
              "    }\n",
              "\n",
              "    .dataframe tbody tr th {\n",
              "        vertical-align: top;\n",
              "    }\n",
              "\n",
              "    .dataframe thead th {\n",
              "        text-align: right;\n",
              "    }\n",
              "</style>\n",
              "<table border=\"1\" class=\"dataframe\">\n",
              "  <thead>\n",
              "    <tr style=\"text-align: right;\">\n",
              "      <th></th>\n",
              "      <th>fixed acidity</th>\n",
              "      <th>volatile acidity</th>\n",
              "      <th>citric acid</th>\n",
              "      <th>residual sugar</th>\n",
              "      <th>chlorides</th>\n",
              "      <th>free sulfur dioxide</th>\n",
              "      <th>total sulfur dioxide</th>\n",
              "      <th>density</th>\n",
              "      <th>pH</th>\n",
              "      <th>sulphates</th>\n",
              "      <th>alcohol</th>\n",
              "    </tr>\n",
              "  </thead>\n",
              "  <tbody>\n",
              "    <tr>\n",
              "      <th>518</th>\n",
              "      <td>8.5</td>\n",
              "      <td>0.46</td>\n",
              "      <td>0.31</td>\n",
              "      <td>2.25</td>\n",
              "      <td>0.078</td>\n",
              "      <td>32.0</td>\n",
              "      <td>58.0</td>\n",
              "      <td>0.998</td>\n",
              "      <td>3.33</td>\n",
              "      <td>0.54</td>\n",
              "      <td>9.8</td>\n",
              "    </tr>\n",
              "  </tbody>\n",
              "</table>\n",
              "</div>"
            ],
            "text/plain": [
              "     fixed acidity  volatile acidity  citric acid  residual sugar  chlorides  \\\n",
              "518            8.5              0.46         0.31            2.25      0.078   \n",
              "\n",
              "     free sulfur dioxide  total sulfur dioxide  density    pH  sulphates  \\\n",
              "518                 32.0                  58.0    0.998  3.33       0.54   \n",
              "\n",
              "     alcohol  \n",
              "518      9.8  "
            ]
          },
          "metadata": {
            "tags": []
          },
          "execution_count": 42
        }
      ]
    },
    {
      "metadata": {
        "id": "3Y25ugrvWms4",
        "colab_type": "text"
      },
      "cell_type": "markdown",
      "source": [
        "Now [predict](https://scikit-learn.org/stable/modules/generated/sklearn.linear_model.LogisticRegression.html#sklearn.linear_model.LogisticRegression.predict) whether it's any good!"
      ]
    },
    {
      "metadata": {
        "id": "OExZ7PTsWms4",
        "colab_type": "code",
        "outputId": "07e9fd2f-36ce-46c8-e9cc-eda55a736e7d",
        "colab": {
          "base_uri": "https://localhost:8080/",
          "height": 35
        }
      },
      "cell_type": "code",
      "source": [
        "#model. # YOUR CODE HERE\n",
        "model.predict(random_example)"
      ],
      "execution_count": 0,
      "outputs": [
        {
          "output_type": "execute_result",
          "data": {
            "text/plain": [
              "array([0])"
            ]
          },
          "metadata": {
            "tags": []
          },
          "execution_count": 43
        }
      ]
    },
    {
      "metadata": {
        "id": "0Ii50GUoWms6",
        "colab_type": "text"
      },
      "cell_type": "markdown",
      "source": [
        "You might wonder why it's only showing 0 and 1. Logistic Regression can do probabilities, right?\n",
        "\n",
        "Well, there is another function that returns probabilities. See if you can find it in the documentation."
      ]
    },
    {
      "metadata": {
        "id": "YXn7_K51Wms6",
        "colab_type": "code",
        "outputId": "c6ab5f22-3bde-40d0-dc5c-51e647fb0d63",
        "colab": {
          "base_uri": "https://localhost:8080/",
          "height": 35
        }
      },
      "cell_type": "code",
      "source": [
        "#model. # YOUR CODE HERE\n",
        "model.predict_proba(random_example)"
      ],
      "execution_count": 0,
      "outputs": [
        {
          "output_type": "execute_result",
          "data": {
            "text/plain": [
              "array([[0.55133375, 0.44866625]])"
            ]
          },
          "metadata": {
            "tags": []
          },
          "execution_count": 44
        }
      ]
    },
    {
      "metadata": {
        "id": "xLQMefFPWms-",
        "colab_type": "text"
      },
      "cell_type": "markdown",
      "source": [
        "Try to run this again for some other random samples."
      ]
    },
    {
      "metadata": {
        "id": "ZEy47yLhWms_",
        "colab_type": "text"
      },
      "cell_type": "markdown",
      "source": [
        "### Inspecting the model\n",
        "\n",
        "We can take a look at the coefficients of the model. Try to assign them here:"
      ]
    },
    {
      "metadata": {
        "id": "sioqgHv5WmtA",
        "colab_type": "code",
        "colab": {}
      },
      "cell_type": "code",
      "source": [
        "#coef = # YOUR CODE HERE\n",
        "coef = model.coef_"
      ],
      "execution_count": 0,
      "outputs": []
    },
    {
      "metadata": {
        "id": "YicAjP1yWmtC",
        "colab_type": "code",
        "outputId": "e511b024-9163-49b7-b41d-7eb3b94a0b0e",
        "colab": {
          "base_uri": "https://localhost:8080/",
          "height": 208
        }
      },
      "cell_type": "code",
      "source": [
        "coef_map = dict(zip(df.columns.values, coef[0]))\n",
        "coef_map"
      ],
      "execution_count": 0,
      "outputs": [
        {
          "output_type": "execute_result",
          "data": {
            "text/plain": [
              "{'alcohol': 0.8826661223283571,\n",
              " 'chlorides': -1.6339045553799014,\n",
              " 'citric acid': -0.7663740337661563,\n",
              " 'density': -1.3981515920047465,\n",
              " 'fixed acidity': -0.004505443323345879,\n",
              " 'free sulfur dioxide': 0.0254227033315018,\n",
              " 'pH': -1.5576265840835957,\n",
              " 'residual sugar': 0.02434650808046358,\n",
              " 'sulphates': 1.9476807113971244,\n",
              " 'total sulfur dioxide': -0.018098055434784942,\n",
              " 'volatile acidity': -2.8951420691131156}"
            ]
          },
          "metadata": {
            "tags": []
          },
          "execution_count": 46
        }
      ]
    },
    {
      "metadata": {
        "id": "w2vO0ZGIWmtF",
        "colab_type": "text"
      },
      "cell_type": "markdown",
      "source": [
        "Some of these stand out. Let's inspect some of them:"
      ]
    },
    {
      "metadata": {
        "id": "b11AcwsAWmtF",
        "colab_type": "code",
        "outputId": "46d027f7-2439-45bb-be86-6c468873a490",
        "colab": {
          "base_uri": "https://localhost:8080/",
          "height": 443
        }
      },
      "cell_type": "code",
      "source": [
        "plt.figure(figsize=(8, 6))\n",
        "sns.boxplot(x=\"isGood\", y=\"sulphates\", data=df)\n",
        "plt.grid()"
      ],
      "execution_count": 0,
      "outputs": [
        {
          "output_type": "stream",
          "text": [
            "/usr/local/lib/python3.6/dist-packages/seaborn/categorical.py:454: FutureWarning: remove_na is deprecated and is a private function. Do not use.\n",
            "  box_data = remove_na(group_data)\n"
          ],
          "name": "stderr"
        },
        {
          "output_type": "display_data",
          "data": {
            "image/png": "[encoded data removed]",
            "text/plain": [
              "<Figure size 576x432 with 1 Axes>"
            ]
          },
          "metadata": {
            "tags": []
          }
        }
      ]
    },
    {
      "metadata": {
        "id": "VzujcfquWmtH",
        "colab_type": "text"
      },
      "cell_type": "markdown",
      "source": [
        "Any interesting findings?"
      ]
    },
    {
      "metadata": {
        "id": "OZBIxvdlWmtI",
        "colab_type": "text"
      },
      "cell_type": "markdown",
      "source": [
        "### Our methodology was a bit flawed here...\n",
        "\n",
        "If we use the full dataset for training, and then report the score on the same data set as we used for training, the score is usually a bit *too* positive. \n",
        "\n",
        "Below is an import for a new function that will help us make a training and testing split. Could you see if you can get it to work? [Docs are here](https://scikit-learn.org/stable/modules/generated/sklearn.model_selection.train_test_split.html)."
      ]
    },
    {
      "metadata": {
        "id": "C6zGfpKyWmtI",
        "colab_type": "code",
        "colab": {}
      },
      "cell_type": "code",
      "source": [
        "from sklearn.model_selection import train_test_split"
      ],
      "execution_count": 0,
      "outputs": []
    },
    {
      "metadata": {
        "id": "KmyKdlB5WmtL",
        "colab_type": "code",
        "colab": {}
      },
      "cell_type": "code",
      "source": [
        "# YOUR CODE HERE\n",
        "X_train, X_test, y_train, y_test = train_test_split(X, y)"
      ],
      "execution_count": 0,
      "outputs": []
    },
    {
      "metadata": {
        "id": "3elLajrO4UNy",
        "colab_type": "code",
        "outputId": "08cb869c-2500-4c1a-eb6a-354acb3b992c",
        "colab": {
          "base_uri": "https://localhost:8080/",
          "height": 35
        }
      },
      "cell_type": "code",
      "source": [
        "X_train.shape"
      ],
      "execution_count": 0,
      "outputs": [
        {
          "output_type": "execute_result",
          "data": {
            "text/plain": [
              "(1199, 11)"
            ]
          },
          "metadata": {
            "tags": []
          },
          "execution_count": 51
        }
      ]
    },
    {
      "metadata": {
        "id": "R3b_2bVs4c8b",
        "colab_type": "code",
        "outputId": "c24d2bd0-d71c-41fa-85c3-f06dea4d6071",
        "colab": {
          "base_uri": "https://localhost:8080/",
          "height": 35
        }
      },
      "cell_type": "code",
      "source": [
        "X_test.shape"
      ],
      "execution_count": 0,
      "outputs": [
        {
          "output_type": "execute_result",
          "data": {
            "text/plain": [
              "(400, 11)"
            ]
          },
          "metadata": {
            "tags": []
          },
          "execution_count": 52
        }
      ]
    },
    {
      "metadata": {
        "id": "6hZsZk7VWmtN",
        "colab_type": "text"
      },
      "cell_type": "markdown",
      "source": [
        "You should now have 4 new variables: X_train, X_test, y_train, y_test"
      ]
    },
    {
      "metadata": {
        "id": "ot3oReL_WmtO",
        "colab_type": "text"
      },
      "cell_type": "markdown",
      "source": [
        "### Open-ended asignment\n",
        "\n",
        "- Re-train the model, but now only on X_train and y_train. \n",
        "- Evaluate on both X_train & y_train and X_test & y_test. Do you notice a difference?\n",
        "- Increase the complexity: add polynomial features (manually or using [PolynomialFeatures](https://scikit-learn.org/stable/modules/generated/sklearn.preprocessing.PolynomialFeatures.html)). What does this do to the scores on train & test?\n",
        "- You might be able to get the train and test scores closer together by tuning the \"C\" parameter. Give that a go.\n",
        "- What is your best score?"
      ]
    },
    {
      "metadata": {
        "id": "tNDZFKqOWmtO",
        "colab_type": "code",
        "outputId": "b212b796-a2b3-437a-9118-a5fb08b3c4af",
        "colab": {
          "base_uri": "https://localhost:8080/",
          "height": 104
        }
      },
      "cell_type": "code",
      "source": [
        "# YOUR CODE HERE\n",
        "lr = LogisticRegression()\n",
        "lr.fit(X_train, y_train)\n",
        "print(\"Training set score {:0.3f}\".format(lr.score(X_train, y_train)))\n",
        "print(\"Test     set score {:0.3f}\".format(lr.score(X_test, y_test)))\n"
      ],
      "execution_count": 0,
      "outputs": [
        {
          "output_type": "stream",
          "text": [
            "Training set score 0.750\n",
            "Test     set score 0.730\n"
          ],
          "name": "stdout"
        },
        {
          "output_type": "stream",
          "text": [
            "/usr/local/lib/python3.6/dist-packages/sklearn/linear_model/logistic.py:433: FutureWarning: Default solver will be changed to 'lbfgs' in 0.22. Specify a solver to silence this warning.\n",
            "  FutureWarning)\n"
          ],
          "name": "stderr"
        }
      ]
    },
    {
      "metadata": {
        "id": "SFTM8jVfYLZP",
        "colab_type": "code",
        "outputId": "5444a164-b85f-43ab-d218-78c837d5fc04",
        "colab": {
          "base_uri": "https://localhost:8080/",
          "height": 50
        }
      },
      "cell_type": "code",
      "source": [
        "from sklearn.preprocessing import PolynomialFeatures\n",
        "\n",
        "poly = PolynomialFeatures(degree=3)\n",
        "X_poly = poly.fit_transform(X)\n",
        "print(X.shape)\n",
        "print(X_poly.shape)"
      ],
      "execution_count": 0,
      "outputs": [
        {
          "output_type": "stream",
          "text": [
            "(1599, 11)\n",
            "(1599, 364)\n"
          ],
          "name": "stdout"
        }
      ]
    },
    {
      "metadata": {
        "id": "sccvzjXGYtRU",
        "colab_type": "code",
        "colab": {}
      },
      "cell_type": "code",
      "source": [
        "X_poly_train, X_poly_test, y_poly_train, y_poly_test = train_test_split(X_poly, y)"
      ],
      "execution_count": 0,
      "outputs": []
    },
    {
      "metadata": {
        "id": "Utk_SwD4Y4gY",
        "colab_type": "code",
        "outputId": "7aeeb1c5-cc36-40da-d61c-f48eb3b54f89",
        "colab": {
          "base_uri": "https://localhost:8080/",
          "height": 138
        }
      },
      "cell_type": "code",
      "source": [
        "lr = LogisticRegression(C=2)\n",
        "lr.fit(X_poly_train, y_poly_train)\n",
        "print(\"Training set score {:0.3f}\".format(lr.score(X_poly_train, y_poly_train)))\n",
        "print(\"Test     set score {:0.3f}\".format(lr.score(X_poly_test, y_poly_test)))\n"
      ],
      "execution_count": 0,
      "outputs": [
        {
          "output_type": "stream",
          "text": [
            "/usr/local/lib/python3.6/dist-packages/sklearn/linear_model/logistic.py:433: FutureWarning: Default solver will be changed to 'lbfgs' in 0.22. Specify a solver to silence this warning.\n",
            "  FutureWarning)\n"
          ],
          "name": "stderr"
        },
        {
          "output_type": "stream",
          "text": [
            "Training set score 0.770\n",
            "Test     set score 0.745\n"
          ],
          "name": "stdout"
        },
        {
          "output_type": "stream",
          "text": [
            "/usr/local/lib/python3.6/dist-packages/sklearn/svm/base.py:931: ConvergenceWarning: Liblinear failed to converge, increase the number of iterations.\n",
            "  \"the number of iterations.\", ConvergenceWarning)\n"
          ],
          "name": "stderr"
        }
      ]
    },
    {
      "metadata": {
        "id": "mhviAhXCZNsh",
        "colab_type": "code",
        "colab": {}
      },
      "cell_type": "code",
      "source": [
        ""
      ],
      "execution_count": 0,
      "outputs": []
    }
  ]
}