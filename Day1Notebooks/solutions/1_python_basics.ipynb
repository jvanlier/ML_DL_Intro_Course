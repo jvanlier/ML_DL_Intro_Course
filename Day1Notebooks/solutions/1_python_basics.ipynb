{
  "nbformat": 4,
  "nbformat_minor": 0,
  "metadata": {
    "colab": {
      "name": "1_python_basics.ipynb",
      "version": "0.3.2",
      "provenance": [],
      "collapsed_sections": []
    },
    "kernelspec": {
      "display_name": "Python 3",
      "language": "python",
      "name": "python3"
    }
  },
  "cells": [
    {
      "metadata": {
        "id": "cSvXv-9RVawY",
        "colab_type": "text"
      },
      "cell_type": "markdown",
      "source": [
        "Optional Notebook: Python Basics\n",
        "================================\n",
        "This Notebook is for people who haven't done the pre-requisite Datacamp courses. Others may proceed directly to the logistic regression notebook."
      ]
    },
    {
      "metadata": {
        "id": "dB-0owSxVawb",
        "colab_type": "text"
      },
      "cell_type": "markdown",
      "source": [
        "## Instructions\n",
        "\n",
        "- Press CTRL-Enter to run cell and stay in the cell. \n",
        "- Press SHIFT-Enter to run cell and move the the next cell.\n",
        "\n",
        "Or click the button on the left, but pros use shortcuts! :-)\n",
        "\n",
        "Just run each cell and observe what it does. Feel free to change things around."
      ]
    },
    {
      "metadata": {
        "id": "4V4MNF9iVawc",
        "colab_type": "code",
        "outputId": "66620118-a76f-4457-acfe-a6f32db1664b",
        "colab": {
          "base_uri": "https://localhost:8080/",
          "height": 35
        }
      },
      "cell_type": "code",
      "source": [
        "print(\"Hello World\")"
      ],
      "execution_count": 1,
      "outputs": [
        {
          "output_type": "stream",
          "text": [
            "Hello World\n"
          ],
          "name": "stdout"
        }
      ]
    },
    {
      "metadata": {
        "id": "yCaqsFqfVawf",
        "colab_type": "text"
      },
      "cell_type": "markdown",
      "source": [
        "## Math"
      ]
    },
    {
      "metadata": {
        "id": "R4KNwt4qVawg",
        "colab_type": "code",
        "outputId": "daf4413f-8f6f-4650-c8b5-f27d33049727",
        "colab": {
          "base_uri": "https://localhost:8080/",
          "height": 35
        }
      },
      "cell_type": "code",
      "source": [
        "5 + 3"
      ],
      "execution_count": 2,
      "outputs": [
        {
          "output_type": "execute_result",
          "data": {
            "text/plain": [
              "8"
            ]
          },
          "metadata": {
            "tags": []
          },
          "execution_count": 2
        }
      ]
    },
    {
      "metadata": {
        "id": "gA_0Fp5YVawj",
        "colab_type": "code",
        "outputId": "7bfdf086-5f08-46d6-85cf-841b470cc9b8",
        "colab": {
          "base_uri": "https://localhost:8080/",
          "height": 35
        }
      },
      "cell_type": "code",
      "source": [
        "5 - 3"
      ],
      "execution_count": 3,
      "outputs": [
        {
          "output_type": "execute_result",
          "data": {
            "text/plain": [
              "2"
            ]
          },
          "metadata": {
            "tags": []
          },
          "execution_count": 3
        }
      ]
    },
    {
      "metadata": {
        "id": "AuUolgkmVawl",
        "colab_type": "code",
        "outputId": "b1106842-20fd-416e-8f73-f9b5151816dc",
        "colab": {
          "base_uri": "https://localhost:8080/",
          "height": 35
        }
      },
      "cell_type": "code",
      "source": [
        "5 / 3\n"
      ],
      "execution_count": 4,
      "outputs": [
        {
          "output_type": "execute_result",
          "data": {
            "text/plain": [
              "1.6666666666666667"
            ]
          },
          "metadata": {
            "tags": []
          },
          "execution_count": 4
        }
      ]
    },
    {
      "metadata": {
        "id": "ypYAnYKSVawn",
        "colab_type": "code",
        "outputId": "5816622e-fff7-43d6-da8d-a1406d1aae4c",
        "colab": {
          "base_uri": "https://localhost:8080/",
          "height": 35
        }
      },
      "cell_type": "code",
      "source": [
        "5 / 3 - 1"
      ],
      "execution_count": 5,
      "outputs": [
        {
          "output_type": "execute_result",
          "data": {
            "text/plain": [
              "0.6666666666666667"
            ]
          },
          "metadata": {
            "tags": []
          },
          "execution_count": 5
        }
      ]
    },
    {
      "metadata": {
        "id": "66ZcBnv4Vawq",
        "colab_type": "code",
        "outputId": "e6582225-ff1f-4a4b-f5df-31069d55fe60",
        "colab": {
          "base_uri": "https://localhost:8080/",
          "height": 35
        }
      },
      "cell_type": "code",
      "source": [
        "5 / (3 - 1)\n"
      ],
      "execution_count": 6,
      "outputs": [
        {
          "output_type": "execute_result",
          "data": {
            "text/plain": [
              "2.5"
            ]
          },
          "metadata": {
            "tags": []
          },
          "execution_count": 6
        }
      ]
    },
    {
      "metadata": {
        "id": "rlJBC0SAVaws",
        "colab_type": "code",
        "outputId": "b9a73e85-ec30-46a4-8911-9d290d25662d",
        "colab": {
          "base_uri": "https://localhost:8080/",
          "height": 35
        }
      },
      "cell_type": "code",
      "source": [
        "5 * 3\n"
      ],
      "execution_count": 7,
      "outputs": [
        {
          "output_type": "execute_result",
          "data": {
            "text/plain": [
              "15"
            ]
          },
          "metadata": {
            "tags": []
          },
          "execution_count": 7
        }
      ]
    },
    {
      "metadata": {
        "id": "mUjPUuqJVawv",
        "colab_type": "code",
        "outputId": "08af34c9-e609-4ba0-99c2-0ec8f12fc19d",
        "colab": {
          "base_uri": "https://localhost:8080/",
          "height": 35
        }
      },
      "cell_type": "code",
      "source": [
        "5 ** 3"
      ],
      "execution_count": 8,
      "outputs": [
        {
          "output_type": "execute_result",
          "data": {
            "text/plain": [
              "125"
            ]
          },
          "metadata": {
            "tags": []
          },
          "execution_count": 8
        }
      ]
    },
    {
      "metadata": {
        "id": "K6Vi5XkiVaw0",
        "colab_type": "text"
      },
      "cell_type": "markdown",
      "source": [
        "**Question: what does ** do?**\n",
        "\n",
        "--> $5^3$"
      ]
    },
    {
      "metadata": {
        "id": "zZvwSPt0Vaw0",
        "colab_type": "text"
      },
      "cell_type": "markdown",
      "source": [
        "### Variables & data types"
      ]
    },
    {
      "metadata": {
        "id": "SvR07f3lVaw1",
        "colab_type": "code",
        "colab": {}
      },
      "cell_type": "code",
      "source": [
        "x = 5"
      ],
      "execution_count": 0,
      "outputs": []
    },
    {
      "metadata": {
        "id": "o7d6izCKVaw4",
        "colab_type": "code",
        "outputId": "f3c2978b-2423-497b-ce1a-48e1485a864e",
        "colab": {
          "base_uri": "https://localhost:8080/",
          "height": 35
        }
      },
      "cell_type": "code",
      "source": [
        "type(x)"
      ],
      "execution_count": 10,
      "outputs": [
        {
          "output_type": "execute_result",
          "data": {
            "text/plain": [
              "int"
            ]
          },
          "metadata": {
            "tags": []
          },
          "execution_count": 10
        }
      ]
    },
    {
      "metadata": {
        "id": "zUVImGgXVaw6",
        "colab_type": "code",
        "colab": {}
      },
      "cell_type": "code",
      "source": [
        "y = 5.1"
      ],
      "execution_count": 0,
      "outputs": []
    },
    {
      "metadata": {
        "id": "cEqLO8shVaw8",
        "colab_type": "code",
        "outputId": "92df19aa-4509-4a9e-e8b8-b3585ad8980d",
        "colab": {
          "base_uri": "https://localhost:8080/",
          "height": 35
        }
      },
      "cell_type": "code",
      "source": [
        "type(y)"
      ],
      "execution_count": 12,
      "outputs": [
        {
          "output_type": "execute_result",
          "data": {
            "text/plain": [
              "float"
            ]
          },
          "metadata": {
            "tags": []
          },
          "execution_count": 12
        }
      ]
    },
    {
      "metadata": {
        "id": "15mF87IIVaw-",
        "colab_type": "code",
        "colab": {}
      },
      "cell_type": "code",
      "source": [
        "z = \"foo\""
      ],
      "execution_count": 0,
      "outputs": []
    },
    {
      "metadata": {
        "id": "Sp3kY3SiVaxA",
        "colab_type": "code",
        "outputId": "2689b09a-4f17-4166-b0a6-37cc4184242b",
        "colab": {
          "base_uri": "https://localhost:8080/",
          "height": 35
        }
      },
      "cell_type": "code",
      "source": [
        "type(z)"
      ],
      "execution_count": 14,
      "outputs": [
        {
          "output_type": "execute_result",
          "data": {
            "text/plain": [
              "str"
            ]
          },
          "metadata": {
            "tags": []
          },
          "execution_count": 14
        }
      ]
    },
    {
      "metadata": {
        "scrolled": true,
        "id": "Mdx9khaEVaxD",
        "colab_type": "code",
        "outputId": "1ceb3b6e-1a9c-4fda-dc48-94084b6bc993",
        "colab": {
          "base_uri": "https://localhost:8080/",
          "height": 35
        }
      },
      "cell_type": "code",
      "source": [
        "x * y"
      ],
      "execution_count": 15,
      "outputs": [
        {
          "output_type": "execute_result",
          "data": {
            "text/plain": [
              "25.5"
            ]
          },
          "metadata": {
            "tags": []
          },
          "execution_count": 15
        }
      ]
    },
    {
      "metadata": {
        "id": "Q-WV4i32VaxG",
        "colab_type": "text"
      },
      "cell_type": "markdown",
      "source": [
        "**Question: what does x * z do? Think about this first, and then try below:**"
      ]
    },
    {
      "metadata": {
        "id": "f2W_twIKVaxH",
        "colab_type": "code",
        "outputId": "310eaa18-588a-4382-fca7-ec973ca05fd4",
        "colab": {
          "base_uri": "https://localhost:8080/",
          "height": 35
        }
      },
      "cell_type": "code",
      "source": [
        "# YOUR CODE HERE\n",
        "x * y"
      ],
      "execution_count": 16,
      "outputs": [
        {
          "output_type": "execute_result",
          "data": {
            "text/plain": [
              "25.5"
            ]
          },
          "metadata": {
            "tags": []
          },
          "execution_count": 16
        }
      ]
    },
    {
      "metadata": {
        "id": "lEvUroWjVaxL",
        "colab_type": "text"
      },
      "cell_type": "markdown",
      "source": [
        "### Lists"
      ]
    },
    {
      "metadata": {
        "id": "cDSAIxoGVaxN",
        "colab_type": "code",
        "colab": {}
      },
      "cell_type": "code",
      "source": [
        "l = [1, 2, 3]"
      ],
      "execution_count": 0,
      "outputs": []
    },
    {
      "metadata": {
        "id": "LM3oI4tEVaxQ",
        "colab_type": "code",
        "outputId": "1fd6e98e-312f-4013-9f17-747999331dad",
        "colab": {
          "base_uri": "https://localhost:8080/",
          "height": 35
        }
      },
      "cell_type": "code",
      "source": [
        "l"
      ],
      "execution_count": 18,
      "outputs": [
        {
          "output_type": "execute_result",
          "data": {
            "text/plain": [
              "[1, 2, 3]"
            ]
          },
          "metadata": {
            "tags": []
          },
          "execution_count": 18
        }
      ]
    },
    {
      "metadata": {
        "id": "b0vpRQxqVaxT",
        "colab_type": "code",
        "outputId": "837a2614-308e-443f-8e57-24ac0adef72a",
        "colab": {
          "base_uri": "https://localhost:8080/",
          "height": 35
        }
      },
      "cell_type": "code",
      "source": [
        "type(l)"
      ],
      "execution_count": 19,
      "outputs": [
        {
          "output_type": "execute_result",
          "data": {
            "text/plain": [
              "list"
            ]
          },
          "metadata": {
            "tags": []
          },
          "execution_count": 19
        }
      ]
    },
    {
      "metadata": {
        "id": "_fOYHbjMVaxW",
        "colab_type": "code",
        "colab": {}
      },
      "cell_type": "code",
      "source": [
        "l.append(4)"
      ],
      "execution_count": 0,
      "outputs": []
    },
    {
      "metadata": {
        "id": "kf8W0kviVaxY",
        "colab_type": "code",
        "outputId": "3762243b-17cc-47f1-84d9-0ba4a4c3c184",
        "colab": {
          "base_uri": "https://localhost:8080/",
          "height": 35
        }
      },
      "cell_type": "code",
      "source": [
        "l"
      ],
      "execution_count": 21,
      "outputs": [
        {
          "output_type": "execute_result",
          "data": {
            "text/plain": [
              "[1, 2, 3, 4]"
            ]
          },
          "metadata": {
            "tags": []
          },
          "execution_count": 21
        }
      ]
    },
    {
      "metadata": {
        "id": "AHEZQNO_Vaxc",
        "colab_type": "code",
        "colab": {}
      },
      "cell_type": "code",
      "source": [
        "l.remove(3)"
      ],
      "execution_count": 0,
      "outputs": []
    },
    {
      "metadata": {
        "id": "GPECqimUVaxe",
        "colab_type": "code",
        "outputId": "ab69ee48-2969-4f4c-9947-1a7717e0b652",
        "colab": {
          "base_uri": "https://localhost:8080/",
          "height": 35
        }
      },
      "cell_type": "code",
      "source": [
        "l"
      ],
      "execution_count": 23,
      "outputs": [
        {
          "output_type": "execute_result",
          "data": {
            "text/plain": [
              "[1, 2, 4]"
            ]
          },
          "metadata": {
            "tags": []
          },
          "execution_count": 23
        }
      ]
    },
    {
      "metadata": {
        "id": "pWUoZHvbVaxh",
        "colab_type": "text"
      },
      "cell_type": "markdown",
      "source": [
        "### Loops"
      ]
    },
    {
      "metadata": {
        "id": "lCNFX4ZsVaxh",
        "colab_type": "code",
        "outputId": "8bb79aa5-191c-4623-e480-f38815630690",
        "colab": {
          "base_uri": "https://localhost:8080/",
          "height": 69
        }
      },
      "cell_type": "code",
      "source": [
        "for item in [11, 22, 33]:\n",
        "    print(item - 3)"
      ],
      "execution_count": 24,
      "outputs": [
        {
          "output_type": "stream",
          "text": [
            "8\n",
            "19\n",
            "30\n"
          ],
          "name": "stdout"
        }
      ]
    },
    {
      "metadata": {
        "id": "vK28ng7pVaxk",
        "colab_type": "text"
      },
      "cell_type": "markdown",
      "source": [
        "### Functions"
      ]
    },
    {
      "metadata": {
        "id": "w18ZO6AUVaxl",
        "colab_type": "code",
        "colab": {}
      },
      "cell_type": "code",
      "source": [
        "def double(x):\n",
        "    return x * 2"
      ],
      "execution_count": 0,
      "outputs": []
    },
    {
      "metadata": {
        "id": "-quKj_1pVaxn",
        "colab_type": "code",
        "outputId": "ff803bdf-e725-4fc2-e6c8-15a91e18eb91",
        "colab": {
          "base_uri": "https://localhost:8080/",
          "height": 35
        }
      },
      "cell_type": "code",
      "source": [
        "double(11)"
      ],
      "execution_count": 26,
      "outputs": [
        {
          "output_type": "execute_result",
          "data": {
            "text/plain": [
              "22"
            ]
          },
          "metadata": {
            "tags": []
          },
          "execution_count": 26
        }
      ]
    },
    {
      "metadata": {
        "id": "fjDIVDWgVaxp",
        "colab_type": "code",
        "outputId": "cc700823-6505-4b5c-f350-814de0ae9a94",
        "colab": {
          "base_uri": "https://localhost:8080/",
          "height": 35
        }
      },
      "cell_type": "code",
      "source": [
        "double([1, 2, 3])"
      ],
      "execution_count": 27,
      "outputs": [
        {
          "output_type": "execute_result",
          "data": {
            "text/plain": [
              "[1, 2, 3, 1, 2, 3]"
            ]
          },
          "metadata": {
            "tags": []
          },
          "execution_count": 27
        }
      ]
    },
    {
      "metadata": {
        "id": "HWaDbyY8Vaxs",
        "colab_type": "text"
      },
      "cell_type": "markdown",
      "source": [
        "### Boolean algebra"
      ]
    },
    {
      "metadata": {
        "id": "DJkR-QudVaxt",
        "colab_type": "code",
        "colab": {}
      },
      "cell_type": "code",
      "source": [
        "sun_is_shining = True"
      ],
      "execution_count": 0,
      "outputs": []
    },
    {
      "metadata": {
        "id": "yWjHoFenVaxv",
        "colab_type": "code",
        "outputId": "c9c05f82-c6ca-422a-86dc-d20296c793c9",
        "colab": {
          "base_uri": "https://localhost:8080/",
          "height": 35
        }
      },
      "cell_type": "code",
      "source": [
        "type(sun_is_shining)"
      ],
      "execution_count": 30,
      "outputs": [
        {
          "output_type": "execute_result",
          "data": {
            "text/plain": [
              "bool"
            ]
          },
          "metadata": {
            "tags": []
          },
          "execution_count": 30
        }
      ]
    },
    {
      "metadata": {
        "id": "cl4H-pHNVaxy",
        "colab_type": "code",
        "outputId": "3478f14f-a9d4-49e1-927a-84e5401fd876",
        "colab": {
          "base_uri": "https://localhost:8080/",
          "height": 35
        }
      },
      "cell_type": "code",
      "source": [
        "if sun_is_shining:\n",
        "    print(\"Go outside!\")\n",
        "else:\n",
        "    print(\"Stay inside!\")"
      ],
      "execution_count": 31,
      "outputs": [
        {
          "output_type": "stream",
          "text": [
            "Stay inside!\n"
          ],
          "name": "stdout"
        }
      ]
    },
    {
      "metadata": {
        "id": "FEpEFdllVax0",
        "colab_type": "text"
      },
      "cell_type": "markdown",
      "source": [
        "**Exercise: change `True` to `False` above, and run again.**"
      ]
    },
    {
      "metadata": {
        "id": "WTthLqu0Vax1",
        "colab_type": "text"
      },
      "cell_type": "markdown",
      "source": [
        "**Exercise: add variable `raining`, next to `sun_is_shining`. Change the logic: this time, you only want to go outside if it is dry and the sun is shining. Use keyword `not`.**"
      ]
    },
    {
      "metadata": {
        "id": "Cz-QTE7uVax2",
        "colab_type": "code",
        "outputId": "6af4fc97-4da3-467a-e5a7-1efa5c422dae",
        "colab": {
          "base_uri": "https://localhost:8080/",
          "height": 35
        }
      },
      "cell_type": "code",
      "source": [
        "# YOUR CODE HERE\n",
        "raining = True\n",
        "\n",
        "if sun_is_shining and not raining:\n",
        "    print(\"Go outside!\")\n",
        "else:\n",
        "    print(\"Stay inside!\")"
      ],
      "execution_count": 34,
      "outputs": [
        {
          "output_type": "stream",
          "text": [
            "Stay inside!\n"
          ],
          "name": "stdout"
        }
      ]
    },
    {
      "metadata": {
        "id": "LD7fXgi7Vax3",
        "colab_type": "text"
      },
      "cell_type": "markdown",
      "source": [
        "# Pandas\n",
        "Pandas is an open source library for manipulating tabular data. It is very powerful and is also known as \"Excel on steroids\"."
      ]
    },
    {
      "metadata": {
        "id": "STZQUEIQVax4",
        "colab_type": "code",
        "colab": {}
      },
      "cell_type": "code",
      "source": [
        "import pandas as pd"
      ],
      "execution_count": 0,
      "outputs": []
    },
    {
      "metadata": {
        "id": "RYuNnCh2Vax6",
        "colab_type": "text"
      },
      "cell_type": "markdown",
      "source": [
        "It uses so-called DataFrames."
      ]
    },
    {
      "metadata": {
        "id": "1XtAy1Q8Vax6",
        "colab_type": "code",
        "colab": {}
      },
      "cell_type": "code",
      "source": [
        "df = pd.DataFrame({\"var1\": [1, 2, 3], \"var2\": [\"x\", \"x\", \"y\"]})"
      ],
      "execution_count": 0,
      "outputs": []
    },
    {
      "metadata": {
        "id": "tM05NzzYVax8",
        "colab_type": "code",
        "outputId": "43154269-e3f3-415e-c69c-d37dcfb41876",
        "colab": {
          "base_uri": "https://localhost:8080/",
          "height": 136
        }
      },
      "cell_type": "code",
      "source": [
        "df.head()"
      ],
      "execution_count": 0,
      "outputs": [
        {
          "output_type": "execute_result",
          "data": {
            "text/html": [
              "<div>\n",
              "<style scoped>\n",
              "    .dataframe tbody tr th:only-of-type {\n",
              "        vertical-align: middle;\n",
              "    }\n",
              "\n",
              "    .dataframe tbody tr th {\n",
              "        vertical-align: top;\n",
              "    }\n",
              "\n",
              "    .dataframe thead th {\n",
              "        text-align: right;\n",
              "    }\n",
              "</style>\n",
              "<table border=\"1\" class=\"dataframe\">\n",
              "  <thead>\n",
              "    <tr style=\"text-align: right;\">\n",
              "      <th></th>\n",
              "      <th>var1</th>\n",
              "      <th>var2</th>\n",
              "    </tr>\n",
              "  </thead>\n",
              "  <tbody>\n",
              "    <tr>\n",
              "      <th>0</th>\n",
              "      <td>1</td>\n",
              "      <td>x</td>\n",
              "    </tr>\n",
              "    <tr>\n",
              "      <th>1</th>\n",
              "      <td>2</td>\n",
              "      <td>x</td>\n",
              "    </tr>\n",
              "    <tr>\n",
              "      <th>2</th>\n",
              "      <td>3</td>\n",
              "      <td>y</td>\n",
              "    </tr>\n",
              "  </tbody>\n",
              "</table>\n",
              "</div>"
            ],
            "text/plain": [
              "   var1 var2\n",
              "0     1    x\n",
              "1     2    x\n",
              "2     3    y"
            ]
          },
          "metadata": {
            "tags": []
          },
          "execution_count": 36
        }
      ]
    },
    {
      "metadata": {
        "id": "P2IbBiorVax9",
        "colab_type": "text"
      },
      "cell_type": "markdown",
      "source": [
        "You can directly access the index and columns:"
      ]
    },
    {
      "metadata": {
        "id": "V_ztJLupVax-",
        "colab_type": "code",
        "outputId": "4bda7842-72dd-4d02-ddec-926a1df6e908",
        "colab": {
          "base_uri": "https://localhost:8080/",
          "height": 34
        }
      },
      "cell_type": "code",
      "source": [
        "df.index.values"
      ],
      "execution_count": 0,
      "outputs": [
        {
          "output_type": "execute_result",
          "data": {
            "text/plain": [
              "array([0, 1, 2])"
            ]
          },
          "metadata": {
            "tags": []
          },
          "execution_count": 37
        }
      ]
    },
    {
      "metadata": {
        "id": "H20j5mupVayD",
        "colab_type": "code",
        "outputId": "660cde8e-f796-46d1-d852-708684a59ee8",
        "colab": {
          "base_uri": "https://localhost:8080/",
          "height": 84
        }
      },
      "cell_type": "code",
      "source": [
        "df[\"var1\"]"
      ],
      "execution_count": 0,
      "outputs": [
        {
          "output_type": "execute_result",
          "data": {
            "text/plain": [
              "0    1\n",
              "1    2\n",
              "2    3\n",
              "Name: var1, dtype: int64"
            ]
          },
          "metadata": {
            "tags": []
          },
          "execution_count": 38
        }
      ]
    },
    {
      "metadata": {
        "id": "FOQlM0HyVayG",
        "colab_type": "code",
        "outputId": "72b08507-c926-41c2-bbc5-b01f72fc7996",
        "colab": {
          "base_uri": "https://localhost:8080/",
          "height": 84
        }
      },
      "cell_type": "code",
      "source": [
        "df[\"var2\"]"
      ],
      "execution_count": 0,
      "outputs": [
        {
          "output_type": "execute_result",
          "data": {
            "text/plain": [
              "0    x\n",
              "1    x\n",
              "2    y\n",
              "Name: var2, dtype: object"
            ]
          },
          "metadata": {
            "tags": []
          },
          "execution_count": 39
        }
      ]
    },
    {
      "metadata": {
        "id": "SEfv7TjzVayI",
        "colab_type": "text"
      },
      "cell_type": "markdown",
      "source": [
        "Or the rows - based on the index:"
      ]
    },
    {
      "metadata": {
        "id": "6PYA9WLPVayI",
        "colab_type": "code",
        "outputId": "3de764c2-de5c-40af-ea5f-095f112f97b9",
        "colab": {
          "base_uri": "https://localhost:8080/",
          "height": 67
        }
      },
      "cell_type": "code",
      "source": [
        "df.loc[1, :]"
      ],
      "execution_count": 0,
      "outputs": [
        {
          "output_type": "execute_result",
          "data": {
            "text/plain": [
              "var1    2\n",
              "var2    x\n",
              "Name: 1, dtype: object"
            ]
          },
          "metadata": {
            "tags": []
          },
          "execution_count": 40
        }
      ]
    },
    {
      "metadata": {
        "id": "_skBs1dDVayK",
        "colab_type": "text"
      },
      "cell_type": "markdown",
      "source": [
        "Even specific values by index & column:"
      ]
    },
    {
      "metadata": {
        "id": "Jz3bAI9vVayL",
        "colab_type": "code",
        "outputId": "14915d60-1cdd-4c67-852f-68cf29f10edd",
        "colab": {
          "base_uri": "https://localhost:8080/",
          "height": 34
        }
      },
      "cell_type": "code",
      "source": [
        "df.loc[1, \"var2\"]"
      ],
      "execution_count": 0,
      "outputs": [
        {
          "output_type": "execute_result",
          "data": {
            "text/plain": [
              "'x'"
            ]
          },
          "metadata": {
            "tags": []
          },
          "execution_count": 41
        }
      ]
    },
    {
      "metadata": {
        "id": "2e2V6vpKVayO",
        "colab_type": "text"
      },
      "cell_type": "markdown",
      "source": [
        "And you can make selections:"
      ]
    },
    {
      "metadata": {
        "id": "jqFDx_r8VayP",
        "colab_type": "code",
        "outputId": "d5782c47-0cf0-43bc-e375-57f3e33ca4bc",
        "colab": {
          "base_uri": "https://localhost:8080/",
          "height": 106
        }
      },
      "cell_type": "code",
      "source": [
        "df[df[\"var1\"] > 1]"
      ],
      "execution_count": 0,
      "outputs": [
        {
          "output_type": "execute_result",
          "data": {
            "text/html": [
              "<div>\n",
              "<style scoped>\n",
              "    .dataframe tbody tr th:only-of-type {\n",
              "        vertical-align: middle;\n",
              "    }\n",
              "\n",
              "    .dataframe tbody tr th {\n",
              "        vertical-align: top;\n",
              "    }\n",
              "\n",
              "    .dataframe thead th {\n",
              "        text-align: right;\n",
              "    }\n",
              "</style>\n",
              "<table border=\"1\" class=\"dataframe\">\n",
              "  <thead>\n",
              "    <tr style=\"text-align: right;\">\n",
              "      <th></th>\n",
              "      <th>var1</th>\n",
              "      <th>var2</th>\n",
              "    </tr>\n",
              "  </thead>\n",
              "  <tbody>\n",
              "    <tr>\n",
              "      <th>1</th>\n",
              "      <td>2</td>\n",
              "      <td>x</td>\n",
              "    </tr>\n",
              "    <tr>\n",
              "      <th>2</th>\n",
              "      <td>3</td>\n",
              "      <td>y</td>\n",
              "    </tr>\n",
              "  </tbody>\n",
              "</table>\n",
              "</div>"
            ],
            "text/plain": [
              "   var1 var2\n",
              "1     2    x\n",
              "2     3    y"
            ]
          },
          "metadata": {
            "tags": []
          },
          "execution_count": 42
        }
      ]
    },
    {
      "metadata": {
        "id": "Xma08q4JVayR",
        "colab_type": "text"
      },
      "cell_type": "markdown",
      "source": [
        "**Exercise: try selecting the rows for which `var2` is equal to `\"x\"`**"
      ]
    },
    {
      "metadata": {
        "id": "h-OCjuDmVayS",
        "colab_type": "code",
        "outputId": "44859ab2-c5a8-4ef3-c844-26d99054f20d",
        "colab": {
          "base_uri": "https://localhost:8080/",
          "height": 106
        }
      },
      "cell_type": "code",
      "source": [
        "# YOUR CODE HERE\n",
        "df[df[\"var2\"] == \"x\"]"
      ],
      "execution_count": 0,
      "outputs": [
        {
          "output_type": "execute_result",
          "data": {
            "text/html": [
              "<div>\n",
              "<style scoped>\n",
              "    .dataframe tbody tr th:only-of-type {\n",
              "        vertical-align: middle;\n",
              "    }\n",
              "\n",
              "    .dataframe tbody tr th {\n",
              "        vertical-align: top;\n",
              "    }\n",
              "\n",
              "    .dataframe thead th {\n",
              "        text-align: right;\n",
              "    }\n",
              "</style>\n",
              "<table border=\"1\" class=\"dataframe\">\n",
              "  <thead>\n",
              "    <tr style=\"text-align: right;\">\n",
              "      <th></th>\n",
              "      <th>var1</th>\n",
              "      <th>var2</th>\n",
              "    </tr>\n",
              "  </thead>\n",
              "  <tbody>\n",
              "    <tr>\n",
              "      <th>0</th>\n",
              "      <td>1</td>\n",
              "      <td>x</td>\n",
              "    </tr>\n",
              "    <tr>\n",
              "      <th>1</th>\n",
              "      <td>2</td>\n",
              "      <td>x</td>\n",
              "    </tr>\n",
              "  </tbody>\n",
              "</table>\n",
              "</div>"
            ],
            "text/plain": [
              "   var1 var2\n",
              "0     1    x\n",
              "1     2    x"
            ]
          },
          "metadata": {
            "tags": []
          },
          "execution_count": 43
        }
      ]
    }
  ]
}